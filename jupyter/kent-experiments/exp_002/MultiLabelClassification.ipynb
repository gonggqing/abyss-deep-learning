{
 "cells": [
  {
   "cell_type": "code",
   "execution_count": null,
   "metadata": {},
   "outputs": [],
   "source": [
    "import os\n",
    "\n",
    "import cv2\n",
    "import matplotlib.pyplot as plt\n",
    "import numpy as np\n",
    "from keras.applications.xception import preprocess_input\n",
    "\n",
    "from abyss_deep_learning.datasets.coco import ImageClassificationDataset\n",
    "from abyss_deep_learning.datasets.translators import CocoCaptionTranslator\n",
    "from abyss_deep_learning.keras.classification import caption_map_gen, onehot_gen\n",
    "from abyss_deep_learning.keras.models import ImageClassifier\n",
    "from abyss_deep_learning.keras.utils import lambda_gen, batching_gen"
   ]
  },
  {
   "cell_type": "code",
   "execution_count": null,
   "metadata": {},
   "outputs": [],
   "source": [
    "CURR_DIR = os.getcwd()\n",
    "DATA_DIR = os.path.join(CURR_DIR, 'data')\n",
    "JSON = 'merged_non_x.json'"
   ]
  },
  {
   "cell_type": "code",
   "execution_count": null,
   "metadata": {
    "scrolled": false
   },
   "outputs": [],
   "source": [
    "ds = ImageClassificationDataset(os.path.join(DATA_DIR, JSON),\n",
    "                                cached=False,\n",
    "                                translator=CocoCaptionTranslator())"
   ]
  },
  {
   "cell_type": "code",
   "execution_count": null,
   "metadata": {},
   "outputs": [],
   "source": [
    "# Captions:\n",
    "#     F: Fault\n",
    "#     RI: Root Intrustion\n",
    "#     BG: Background\n",
    "\n",
    "ds_captions = ['F', 'RI', 'BG']"
   ]
  },
  {
   "cell_type": "code",
   "execution_count": null,
   "metadata": {},
   "outputs": [],
   "source": [
    "# Relabel captions in data set that are not Forwards (F), Roots (RI) or Background (BG) to Other Faults (OF)\n",
    "\n",
    "for idx, ann in ds.coco.anns.items():\n",
    "    if ann['caption'] not in ds_captions:\n",
    "        ann['caption'] = 'OF'"
   ]
  },
  {
   "cell_type": "code",
   "execution_count": null,
   "metadata": {},
   "outputs": [],
   "source": [
    "# Insert remaining caption Other Fault (OF)\n",
    "\n",
    "ds_captions.append('OF')"
   ]
  },
  {
   "cell_type": "code",
   "execution_count": null,
   "metadata": {},
   "outputs": [],
   "source": [
    "caption_map = {caption: idx for idx, caption in enumerate(ds_captions)}\n",
    "print(caption_map)"
   ]
  },
  {
   "cell_type": "code",
   "execution_count": null,
   "metadata": {},
   "outputs": [],
   "source": [
    "split_ratio = 0.8\n",
    "idx_shuffled = np.random.permutation(ds.data_ids)\n",
    "idx_split = int(np.floor(split_ratio*len(ds.coco.imgs)))"
   ]
  },
  {
   "cell_type": "code",
   "execution_count": null,
   "metadata": {},
   "outputs": [],
   "source": [
    "# Randomly select 80% of data to be in training set\n",
    "train_ids = idx_shuffled[0:idx_split]\n",
    "# Randomly select 20% of data to be in validation set\n",
    "val_ids = idx_shuffled[(idx_split+1):]"
   ]
  },
  {
   "cell_type": "code",
   "execution_count": null,
   "metadata": {},
   "outputs": [],
   "source": [
    "train_gen = ds.generator(data_ids=list(train_ids),endless=True, shuffle_ids=True)\n",
    "val_gen = ds.generator(data_ids=list(val_ids),endless=True, shuffle_ids=True)"
   ]
  },
  {
   "cell_type": "markdown",
   "metadata": {},
   "source": [
    "# Parameters for model initialization and fitting"
   ]
  },
  {
   "cell_type": "code",
   "execution_count": null,
   "metadata": {},
   "outputs": [],
   "source": [
    "num_rows = 299\n",
    "num_cols = 299\n",
    "\n",
    "batch_size = 5\n",
    "\n",
    "steps_per_epoch = len(train_ids) // batch_size\n",
    "validation_steps = len(val_ids) // batch_size\n",
    "\n",
    "epochs = 2\n",
    "\n",
    "init_lr = 1e-5"
   ]
  },
  {
   "cell_type": "code",
   "execution_count": null,
   "metadata": {},
   "outputs": [],
   "source": [
    "def func(x, y):\n",
    "    \"\"\" Parameter y indices correspond to caption map\n",
    "        Remap root and other fault to 0 if background is labelled for the image\n",
    "    \"\"\"\n",
    "    if y[2]:\n",
    "        y[1:3:2] = 0\n",
    "    return x, y\n",
    "\n",
    "def pipeline(gen, caption_map):\n",
    "    gen1 = caption_map_gen(gen, caption_map)\n",
    "    gen2 = onehot_gen(gen1, len(caption_map))\n",
    "    gen3 = lambda_gen(gen2, func)\n",
    "    gen4 = lambda_gen(gen3, lambda x, y: (preprocess_input(cv2.resize(x, (num_rows, num_cols))), y))\n",
    "    gen5 = batching_gen(gen4, batch_size)\n",
    "    return gen5"
   ]
  },
  {
   "cell_type": "code",
   "execution_count": null,
   "metadata": {},
   "outputs": [],
   "source": [
    "caption_map"
   ]
  },
  {
   "cell_type": "code",
   "execution_count": null,
   "metadata": {
    "scrolled": true
   },
   "outputs": [],
   "source": [
    "for image, caption in pipeline(train_gen, caption_map):\n",
    "    print(caption[0])\n",
    "    plt.imshow(image[0])\n",
    "    break"
   ]
  },
  {
   "cell_type": "code",
   "execution_count": null,
   "metadata": {},
   "outputs": [],
   "source": [
    "model = ImageClassifier(init_lr=init_lr,\n",
    "                       classes=len(caption_map),\n",
    "                       loss='binary_crossentropy',\n",
    "                       output_activation='sigmoid')"
   ]
  },
  {
   "cell_type": "code",
   "execution_count": null,
   "metadata": {},
   "outputs": [],
   "source": [
    "model.fit_generator(pipeline(train_gen, caption_map),\n",
    "                    epochs=epochs,\n",
    "                    steps_per_epoch=steps_per_epoch,\n",
    "                    validation_data=pipeline(val_gen, caption_map),\n",
    "                    validation_steps=validation_steps,\n",
    "                    )"
   ]
  }
 ],
 "metadata": {
  "kernelspec": {
   "display_name": "Python 3",
   "language": "python",
   "name": "python3"
  },
  "language_info": {
   "codemirror_mode": {
    "name": "ipython",
    "version": 3
   },
   "file_extension": ".py",
   "mimetype": "text/x-python",
   "name": "python",
   "nbconvert_exporter": "python",
   "pygments_lexer": "ipython3",
   "version": "3.6.7"
  }
 },
 "nbformat": 4,
 "nbformat_minor": 2
}
