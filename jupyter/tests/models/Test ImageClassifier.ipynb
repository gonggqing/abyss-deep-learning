{
 "cells": [
  {
   "cell_type": "markdown",
   "metadata": {},
   "source": [
    "# Setup data and model"
   ]
  },
  {
   "cell_type": "code",
   "execution_count": null,
   "metadata": {},
   "outputs": [],
   "source": [
    "import matplotlib.pyplot as plt\n",
    "import numpy as np\n",
    "from abyss_deep_learning.datasets.simulated import alphanum_gen\n",
    "from abyss_deep_learning.keras.classification import batching_gen, multihot_gen\n",
    "from abyss_deep_learning.keras.utils import lambda_gen\n",
    "from keras.backend import clear_session\n",
    "\n",
    "gen_train = alphanum_gen(list(\"0123456789\"), 1, scale=7,\n",
    "                         thickness=5, bg=True, noise=50)\n",
    "gen_val = alphanum_gen(list(\"0123456789\"), 1, scale=7,\n",
    "                       thickness=10, bg=True, noise=100)\n",
    "\n",
    "\n",
    "def pipeline(gen):\n",
    "    return (\n",
    "        multihot_gen(\n",
    "            lambda_gen(gen, lambda x, y: ((x - 127.5) , [int(y)])), 10)\n",
    "    )\n",
    "\n",
    "\n",
    "for a in pipeline(gen_val):\n",
    "    print(a[1])\n",
    "    print(a[0].shape, np.min(a[0]), np.max(a[0]))\n",
    "    plt.figure()\n",
    "    plt.imshow(a[0])\n",
    "    plt.title(str(a[1]))\n",
    "    break"
   ]
  },
  {
   "cell_type": "markdown",
   "metadata": {},
   "source": [
    "# Test training"
   ]
  },
  {
   "cell_type": "code",
   "execution_count": null,
   "metadata": {},
   "outputs": [],
   "source": [
    "# Instantiate model\n",
    "batch_size = 10\n",
    "\n",
    "def create_new_model():\n",
    "    from abyss_deep_learning.keras.classification import ImageClassifier\n",
    "    model = None  # Clear any existing models\n",
    "    clear_session()\n",
    "    model = ImageClassifier(\n",
    "        backbone='xception', input_shape=(128, 75, 3), classes=10,\n",
    "        init_lr=1e-3, init_weights='imagenet',\n",
    "        trainable=True)\n",
    "    return model"
   ]
  },
  {
   "cell_type": "markdown",
   "metadata": {},
   "source": [
    "## Fit: batch method"
   ]
  },
  {
   "cell_type": "code",
   "execution_count": null,
   "metadata": {},
   "outputs": [],
   "source": [
    "from abyss_deep_learning.keras.utils import gen_dump_data\n",
    "\n",
    "x_train, y_train = gen_dump_data(pipeline(gen_train), 100)\n",
    "validation_data = gen_dump_data(pipeline(gen_train), 20)\n",
    "# model = create_new_model()\n",
    "\n",
    "print(\"Break-even loss is\", -np.log(1 / model.classes))\n",
    "# model.set_weights(None)\n",
    "# model.set_lr(1e-3)\n",
    "model.fit(\n",
    "    x_train, y_train,\n",
    "    validation_data=validation_data,\n",
    "    batch_size=batch_size, epochs=4)\n",
    "# del x_train, y_train, validation_data"
   ]
  },
  {
   "cell_type": "markdown",
   "metadata": {},
   "source": [
    "## Fit: generator method"
   ]
  },
  {
   "cell_type": "code",
   "execution_count": null,
   "metadata": {},
   "outputs": [],
   "source": [
    "model = create_new_model()\n",
    "\n",
    "print(\"Break-even loss is\", -np.log(1 / model.classes))\n",
    "model.fit_generator(\n",
    "    batching_gen(pipeline(gen_train), batch_size=batch_size),\n",
    "    validation_data=batching_gen(pipeline(gen_val), batch_size=batch_size),\n",
    "    steps_per_epoch=10, validation_steps=1,\n",
    "    epochs=4,\n",
    "    verbose=True)"
   ]
  },
  {
   "cell_type": "markdown",
   "metadata": {},
   "source": [
    "## Fit: dataset method"
   ]
  },
  {
   "cell_type": "code",
   "execution_count": null,
   "metadata": {},
   "outputs": [],
   "source": [
    "# TODO"
   ]
  },
  {
   "cell_type": "markdown",
   "metadata": {},
   "source": [
    "# Test serialization"
   ]
  },
  {
   "cell_type": "code",
   "execution_count": null,
   "metadata": {},
   "outputs": [],
   "source": [
    "prob1 = model.predict_proba(a[0][np.newaxis, ...])\n",
    "model.save(\"/tmp/abcd\")\n",
    "model = ImageClassifier.load(\"/tmp/abcd\")\n",
    "prob2 = model.predict_proba(a[0][np.newaxis, ...])\n",
    "\n",
    "!rm \"/tmp/abcd\"\n",
    "print(\"Testing serialization: [{}]\".format(np.allclose(prob1, prob2)))"
   ]
  },
  {
   "cell_type": "code",
   "execution_count": null,
   "metadata": {},
   "outputs": [],
   "source": []
  },
  {
   "cell_type": "code",
   "execution_count": null,
   "metadata": {},
   "outputs": [],
   "source": []
  }
 ],
 "metadata": {
  "language_info": {
   "name": "python",
   "pygments_lexer": "ipython3"
  }
 },
 "nbformat": 4,
 "nbformat_minor": 2
}
