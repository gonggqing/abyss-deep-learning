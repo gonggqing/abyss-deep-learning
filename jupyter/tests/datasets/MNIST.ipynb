{
 "cells": [
  {
   "cell_type": "code",
   "execution_count": 2,
   "metadata": {},
   "outputs": [],
   "source": [
    "'''Trains a simple convnet on the MNIST dataset.\n",
    "Gets to 99.25% test accuracy after 12 epochs\n",
    "(there is still a lot of margin for parameter tuning).\n",
    "16 seconds per epoch on a GRID K520 GPU.\n",
    "'''\n",
    "\n",
    "from __future__ import print_function\n",
    "import keras\n",
    "from keras.datasets import mnist\n",
    "from keras.models import Sequential\n",
    "from keras.layers import Dense, Dropout, Flatten, Conv2D, MaxPooling2D\n",
    "from keras.callbacks import TensorBoard\n",
    "from keras import backend as K\n"
   ]
  },
  {
   "cell_type": "code",
   "execution_count": 3,
   "metadata": {},
   "outputs": [
    {
     "name": "stdout",
     "output_type": "stream",
     "text": [
      "x_train shape: (60000, 28, 28, 1)\n",
      "60000 train samples\n",
      "10000 test samples\n"
     ]
    }
   ],
   "source": [
    "batch_size = 10\n",
    "num_classes = 10\n",
    "epochs = 50\n",
    "\n",
    "# input image dimensions\n",
    "img_rows, img_cols = 28, 28\n",
    "\n",
    "# the data, split between train and test sets\n",
    "(x_train, y_train), (x_test, y_test) = mnist.load_data()\n",
    "\n",
    "if K.image_data_format() == 'channels_first':\n",
    "    x_train = x_train.reshape(x_train.shape[0], 1, img_rows, img_cols)\n",
    "    x_test = x_test.reshape(x_test.shape[0], 1, img_rows, img_cols)\n",
    "    input_shape = (1, img_rows, img_cols)\n",
    "else:\n",
    "    x_train = x_train.reshape(x_train.shape[0], img_rows, img_cols, 1)\n",
    "    x_test = x_test.reshape(x_test.shape[0], img_rows, img_cols, 1)\n",
    "    input_shape = (img_rows, img_cols, 1)\n",
    "\n",
    "x_train = x_train.astype('float32')\n",
    "x_test = x_test.astype('float32')\n",
    "x_train /= 255\n",
    "x_test /= 255\n",
    "print('x_train shape:', x_train.shape)\n",
    "print(x_train.shape[0], 'train samples')\n",
    "print(x_test.shape[0], 'test samples')\n",
    "\n",
    "# convert class vectors to binary class matrices\n",
    "y_train = keras.utils.to_categorical(y_train, num_classes)\n",
    "y_test = keras.utils.to_categorical(y_test, num_classes)"
   ]
  },
  {
   "cell_type": "code",
   "execution_count": 4,
   "metadata": {},
   "outputs": [],
   "source": [
    "def make_model():\n",
    "    model = Sequential()\n",
    "    model.add(Conv2D(32, kernel_size=(3, 3),\n",
    "                     activation='relu',\n",
    "                     input_shape=input_shape))\n",
    "    model.add(Conv2D(64, (3, 3), activation='relu'))\n",
    "    model.add(MaxPooling2D(pool_size=(2, 2)))\n",
    "    model.add(Dropout(0.25))\n",
    "    model.add(Flatten())\n",
    "    model.add(Dense(128, activation='relu'))\n",
    "    model.add(Dropout(0.5))\n",
    "    model.add(Dense(num_classes, activation='sigmoid'))\n",
    "\n",
    "    model.compile(loss=keras.losses.binary_crossentropy,\n",
    "                  optimizer=keras.optimizers.Adadelta(),\n",
    "                  metrics=['binary_accuracy', 'categorical_accuracy', 'mse'])\n",
    "    return model"
   ]
  },
  {
   "cell_type": "code",
   "execution_count": 6,
   "metadata": {},
   "outputs": [
    {
     "name": "stdout",
     "output_type": "stream",
     "text": [
      "Train on 1000 samples, validate on 1000 samples\n",
      "Epoch 1/50\n",
      "1000/1000 [==============================] - 2s 2ms/step - loss: 0.2748 - binary_accuracy: 0.9048 - categorical_accuracy: 0.4510 - mean_squared_error: 0.0788 - val_loss: 0.1551 - val_binary_accuracy: 0.9462 - val_categorical_accuracy: 0.7320 - val_mean_squared_error: 0.0428\n",
      "Epoch 2/50\n",
      "1000/1000 [==============================] - 0s 408us/step - loss: 0.1671 - binary_accuracy: 0.9391 - categorical_accuracy: 0.7030 - mean_squared_error: 0.0464 - val_loss: 0.1173 - val_binary_accuracy: 0.9564 - val_categorical_accuracy: 0.7960 - val_mean_squared_error: 0.0329\n",
      "Epoch 3/50\n",
      "1000/1000 [==============================] - 0s 411us/step - loss: 0.1263 - binary_accuracy: 0.9531 - categorical_accuracy: 0.7970 - mean_squared_error: 0.0355 - val_loss: 0.0846 - val_binary_accuracy: 0.9719 - val_categorical_accuracy: 0.8640 - val_mean_squared_error: 0.0226\n",
      "Epoch 4/50\n",
      "1000/1000 [==============================] - 0s 412us/step - loss: 0.1027 - binary_accuracy: 0.9640 - categorical_accuracy: 0.8320 - mean_squared_error: 0.0281 - val_loss: 0.0781 - val_binary_accuracy: 0.9720 - val_categorical_accuracy: 0.8670 - val_mean_squared_error: 0.0215\n",
      "Epoch 5/50\n",
      "1000/1000 [==============================] - 0s 417us/step - loss: 0.0846 - binary_accuracy: 0.9698 - categorical_accuracy: 0.8670 - mean_squared_error: 0.0232 - val_loss: 0.0634 - val_binary_accuracy: 0.9779 - val_categorical_accuracy: 0.8950 - val_mean_squared_error: 0.0172\n",
      "Epoch 6/50\n",
      "1000/1000 [==============================] - 0s 411us/step - loss: 0.0703 - binary_accuracy: 0.9755 - categorical_accuracy: 0.8910 - mean_squared_error: 0.0194 - val_loss: 0.0544 - val_binary_accuracy: 0.9801 - val_categorical_accuracy: 0.9120 - val_mean_squared_error: 0.0149\n",
      "Epoch 7/50\n",
      "1000/1000 [==============================] - 0s 421us/step - loss: 0.0583 - binary_accuracy: 0.9793 - categorical_accuracy: 0.9250 - mean_squared_error: 0.0159 - val_loss: 0.0496 - val_binary_accuracy: 0.9817 - val_categorical_accuracy: 0.9110 - val_mean_squared_error: 0.0139\n",
      "Epoch 8/50\n",
      "1000/1000 [==============================] - 1s 505us/step - loss: 0.0534 - binary_accuracy: 0.9803 - categorical_accuracy: 0.9210 - mean_squared_error: 0.0151 - val_loss: 0.0442 - val_binary_accuracy: 0.9831 - val_categorical_accuracy: 0.9170 - val_mean_squared_error: 0.0126\n",
      "Epoch 9/50\n",
      "1000/1000 [==============================] - 0s 487us/step - loss: 0.0422 - binary_accuracy: 0.9850 - categorical_accuracy: 0.9500 - mean_squared_error: 0.0115 - val_loss: 0.0429 - val_binary_accuracy: 0.9854 - val_categorical_accuracy: 0.9230 - val_mean_squared_error: 0.0117\n",
      "Epoch 10/50\n",
      "1000/1000 [==============================] - 0s 429us/step - loss: 0.0399 - binary_accuracy: 0.9853 - categorical_accuracy: 0.9440 - mean_squared_error: 0.0112 - val_loss: 0.0408 - val_binary_accuracy: 0.9848 - val_categorical_accuracy: 0.9360 - val_mean_squared_error: 0.0113\n",
      "Epoch 11/50\n",
      "1000/1000 [==============================] - 0s 414us/step - loss: 0.0355 - binary_accuracy: 0.9870 - categorical_accuracy: 0.9520 - mean_squared_error: 0.0097 - val_loss: 0.0420 - val_binary_accuracy: 0.9845 - val_categorical_accuracy: 0.9290 - val_mean_squared_error: 0.0116\n",
      "Epoch 12/50\n",
      "1000/1000 [==============================] - 1s 534us/step - loss: 0.0310 - binary_accuracy: 0.9887 - categorical_accuracy: 0.9570 - mean_squared_error: 0.0083 - val_loss: 0.0385 - val_binary_accuracy: 0.9869 - val_categorical_accuracy: 0.9340 - val_mean_squared_error: 0.0105\n",
      "Epoch 13/50\n",
      "1000/1000 [==============================] - 0s 429us/step - loss: 0.0275 - binary_accuracy: 0.9909 - categorical_accuracy: 0.9680 - mean_squared_error: 0.0071 - val_loss: 0.0448 - val_binary_accuracy: 0.9843 - val_categorical_accuracy: 0.9230 - val_mean_squared_error: 0.0119\n",
      "Epoch 14/50\n",
      "1000/1000 [==============================] - 0s 436us/step - loss: 0.0271 - binary_accuracy: 0.9897 - categorical_accuracy: 0.9700 - mean_squared_error: 0.0076 - val_loss: 0.0403 - val_binary_accuracy: 0.9852 - val_categorical_accuracy: 0.9330 - val_mean_squared_error: 0.0111\n",
      "Epoch 15/50\n",
      "1000/1000 [==============================] - 0s 424us/step - loss: 0.0198 - binary_accuracy: 0.9933 - categorical_accuracy: 0.9820 - mean_squared_error: 0.0051 - val_loss: 0.0419 - val_binary_accuracy: 0.9868 - val_categorical_accuracy: 0.9390 - val_mean_squared_error: 0.0106\n",
      "Epoch 16/50\n",
      "1000/1000 [==============================] - 0s 435us/step - loss: 0.0212 - binary_accuracy: 0.9926 - categorical_accuracy: 0.9770 - mean_squared_error: 0.0056 - val_loss: 0.0425 - val_binary_accuracy: 0.9855 - val_categorical_accuracy: 0.9340 - val_mean_squared_error: 0.0111\n",
      "Epoch 17/50\n",
      "1000/1000 [==============================] - 1s 522us/step - loss: 0.0191 - binary_accuracy: 0.9929 - categorical_accuracy: 0.9810 - mean_squared_error: 0.0053 - val_loss: 0.0427 - val_binary_accuracy: 0.9859 - val_categorical_accuracy: 0.9360 - val_mean_squared_error: 0.0110\n",
      "Epoch 18/50\n",
      "1000/1000 [==============================] - 0s 407us/step - loss: 0.0164 - binary_accuracy: 0.9945 - categorical_accuracy: 0.9860 - mean_squared_error: 0.0043 - val_loss: 0.0414 - val_binary_accuracy: 0.9862 - val_categorical_accuracy: 0.9450 - val_mean_squared_error: 0.0106\n",
      "Epoch 19/50\n",
      "1000/1000 [==============================] - 0s 472us/step - loss: 0.0145 - binary_accuracy: 0.9950 - categorical_accuracy: 0.9860 - mean_squared_error: 0.0039 - val_loss: 0.0427 - val_binary_accuracy: 0.9867 - val_categorical_accuracy: 0.9420 - val_mean_squared_error: 0.0108\n",
      "Epoch 20/50\n",
      "1000/1000 [==============================] - 0s 439us/step - loss: 0.0160 - binary_accuracy: 0.9938 - categorical_accuracy: 0.9830 - mean_squared_error: 0.0044 - val_loss: 0.0340 - val_binary_accuracy: 0.9878 - val_categorical_accuracy: 0.9520 - val_mean_squared_error: 0.0091\n",
      "Epoch 21/50\n",
      "1000/1000 [==============================] - 0s 437us/step - loss: 0.0127 - binary_accuracy: 0.9948 - categorical_accuracy: 0.9920 - mean_squared_error: 0.0037 - val_loss: 0.0443 - val_binary_accuracy: 0.9857 - val_categorical_accuracy: 0.9400 - val_mean_squared_error: 0.0111\n",
      "Epoch 22/50\n",
      "1000/1000 [==============================] - 0s 454us/step - loss: 0.0170 - binary_accuracy: 0.9937 - categorical_accuracy: 0.9830 - mean_squared_error: 0.0048 - val_loss: 0.0341 - val_binary_accuracy: 0.9881 - val_categorical_accuracy: 0.9500 - val_mean_squared_error: 0.0090\n",
      "Epoch 23/50\n",
      "1000/1000 [==============================] - 1s 527us/step - loss: 0.0132 - binary_accuracy: 0.9944 - categorical_accuracy: 0.9880 - mean_squared_error: 0.0038 - val_loss: 0.0446 - val_binary_accuracy: 0.9862 - val_categorical_accuracy: 0.9430 - val_mean_squared_error: 0.0108\n",
      "Epoch 24/50\n",
      "1000/1000 [==============================] - 0s 443us/step - loss: 0.0139 - binary_accuracy: 0.9953 - categorical_accuracy: 0.9850 - mean_squared_error: 0.0037 - val_loss: 0.0388 - val_binary_accuracy: 0.9872 - val_categorical_accuracy: 0.9440 - val_mean_squared_error: 0.0097\n",
      "Epoch 25/50\n",
      "1000/1000 [==============================] - 0s 427us/step - loss: 0.0108 - binary_accuracy: 0.9964 - categorical_accuracy: 0.9870 - mean_squared_error: 0.0029 - val_loss: 0.0418 - val_binary_accuracy: 0.9870 - val_categorical_accuracy: 0.9460 - val_mean_squared_error: 0.0101\n",
      "Epoch 26/50\n",
      "1000/1000 [==============================] - 0s 410us/step - loss: 0.0125 - binary_accuracy: 0.9958 - categorical_accuracy: 0.9880 - mean_squared_error: 0.0032 - val_loss: 0.0413 - val_binary_accuracy: 0.9871 - val_categorical_accuracy: 0.9470 - val_mean_squared_error: 0.0102\n",
      "Epoch 27/50\n",
      "1000/1000 [==============================] - 0s 419us/step - loss: 0.0099 - binary_accuracy: 0.9964 - categorical_accuracy: 0.9900 - mean_squared_error: 0.0027 - val_loss: 0.0403 - val_binary_accuracy: 0.9873 - val_categorical_accuracy: 0.9480 - val_mean_squared_error: 0.0097\n",
      "Epoch 28/50\n",
      "1000/1000 [==============================] - 0s 415us/step - loss: 0.0097 - binary_accuracy: 0.9961 - categorical_accuracy: 0.9900 - mean_squared_error: 0.0028 - val_loss: 0.0430 - val_binary_accuracy: 0.9875 - val_categorical_accuracy: 0.9470 - val_mean_squared_error: 0.0100\n",
      "Epoch 29/50\n"
     ]
    },
    {
     "name": "stdout",
     "output_type": "stream",
     "text": [
      "1000/1000 [==============================] - 0s 406us/step - loss: 0.0078 - binary_accuracy: 0.9971 - categorical_accuracy: 0.9940 - mean_squared_error: 0.0021 - val_loss: 0.0444 - val_binary_accuracy: 0.9876 - val_categorical_accuracy: 0.9410 - val_mean_squared_error: 0.0102\n",
      "Epoch 30/50\n",
      "1000/1000 [==============================] - 0s 411us/step - loss: 0.0091 - binary_accuracy: 0.9962 - categorical_accuracy: 0.9940 - mean_squared_error: 0.0025 - val_loss: 0.0436 - val_binary_accuracy: 0.9879 - val_categorical_accuracy: 0.9490 - val_mean_squared_error: 0.0101\n",
      "Epoch 31/50\n",
      " 780/1000 [======================>.......] - ETA: 0s - loss: 0.0107 - binary_accuracy: 0.9960 - categorical_accuracy: 0.9910 - mean_squared_error: 0.0030"
     ]
    },
    {
     "ename": "KeyboardInterrupt",
     "evalue": "",
     "output_type": "error",
     "traceback": [
      "\u001b[0;31m---------------------------------------------------------------------------\u001b[0m",
      "\u001b[0;31mKeyboardInterrupt\u001b[0m                         Traceback (most recent call last)",
      "\u001b[0;32m<ipython-input-6-d9f3ca016b6a>\u001b[0m in \u001b[0;36m<module>\u001b[0;34m\u001b[0m\n\u001b[1;32m     10\u001b[0m          callbacks=[\n\u001b[1;32m     11\u001b[0m              TensorBoard(\n\u001b[0;32m---> 12\u001b[0;31m                  \u001b[0mlogdir\u001b[0m\u001b[0;34m,\u001b[0m \u001b[0mhistogram_freq\u001b[0m\u001b[0;34m=\u001b[0m\u001b[0;36m1\u001b[0m\u001b[0;34m,\u001b[0m \u001b[0mwrite_grads\u001b[0m\u001b[0;34m=\u001b[0m\u001b[0;32mTrue\u001b[0m\u001b[0;34m,\u001b[0m \u001b[0mbatch_size\u001b[0m\u001b[0;34m=\u001b[0m\u001b[0;36m10\u001b[0m\u001b[0;34m\u001b[0m\u001b[0;34m\u001b[0m\u001b[0m\n\u001b[0m\u001b[1;32m     13\u001b[0m              )\n\u001b[1;32m     14\u001b[0m          ])\n",
      "\u001b[0;32m~/.local/lib/python3.6/site-packages/keras/engine/training.py\u001b[0m in \u001b[0;36mfit\u001b[0;34m(self, x, y, batch_size, epochs, verbose, callbacks, validation_split, validation_data, shuffle, class_weight, sample_weight, initial_epoch, steps_per_epoch, validation_steps, **kwargs)\u001b[0m\n\u001b[1;32m   1035\u001b[0m                                         \u001b[0minitial_epoch\u001b[0m\u001b[0;34m=\u001b[0m\u001b[0minitial_epoch\u001b[0m\u001b[0;34m,\u001b[0m\u001b[0;34m\u001b[0m\u001b[0;34m\u001b[0m\u001b[0m\n\u001b[1;32m   1036\u001b[0m                                         \u001b[0msteps_per_epoch\u001b[0m\u001b[0;34m=\u001b[0m\u001b[0msteps_per_epoch\u001b[0m\u001b[0;34m,\u001b[0m\u001b[0;34m\u001b[0m\u001b[0;34m\u001b[0m\u001b[0m\n\u001b[0;32m-> 1037\u001b[0;31m                                         validation_steps=validation_steps)\n\u001b[0m\u001b[1;32m   1038\u001b[0m \u001b[0;34m\u001b[0m\u001b[0m\n\u001b[1;32m   1039\u001b[0m     def evaluate(self, x=None, y=None,\n",
      "\u001b[0;32m~/.local/lib/python3.6/site-packages/keras/engine/training_arrays.py\u001b[0m in \u001b[0;36mfit_loop\u001b[0;34m(model, f, ins, out_labels, batch_size, epochs, verbose, callbacks, val_f, val_ins, shuffle, callback_metrics, initial_epoch, steps_per_epoch, validation_steps)\u001b[0m\n\u001b[1;32m    183\u001b[0m                         \u001b[0;31m# Do not slice the training phase flag.\u001b[0m\u001b[0;34m\u001b[0m\u001b[0;34m\u001b[0m\u001b[0;34m\u001b[0m\u001b[0m\n\u001b[1;32m    184\u001b[0m                         ins_batch = slice_arrays(\n\u001b[0;32m--> 185\u001b[0;31m                             ins[:-1], batch_ids) + [ins[-1]]\n\u001b[0m\u001b[1;32m    186\u001b[0m                     \u001b[0;32melse\u001b[0m\u001b[0;34m:\u001b[0m\u001b[0;34m\u001b[0m\u001b[0;34m\u001b[0m\u001b[0m\n\u001b[1;32m    187\u001b[0m                         \u001b[0mins_batch\u001b[0m \u001b[0;34m=\u001b[0m \u001b[0mslice_arrays\u001b[0m\u001b[0;34m(\u001b[0m\u001b[0mins\u001b[0m\u001b[0;34m,\u001b[0m \u001b[0mbatch_ids\u001b[0m\u001b[0;34m)\u001b[0m\u001b[0;34m\u001b[0m\u001b[0;34m\u001b[0m\u001b[0m\n",
      "\u001b[0;32m~/.local/lib/python3.6/site-packages/keras/utils/generic_utils.py\u001b[0m in \u001b[0;36mslice_arrays\u001b[0;34m(arrays, start, stop)\u001b[0m\n\u001b[1;32m    521\u001b[0m             \u001b[0;32mif\u001b[0m \u001b[0mhasattr\u001b[0m\u001b[0;34m(\u001b[0m\u001b[0mstart\u001b[0m\u001b[0;34m,\u001b[0m \u001b[0;34m'shape'\u001b[0m\u001b[0;34m)\u001b[0m\u001b[0;34m:\u001b[0m\u001b[0;34m\u001b[0m\u001b[0;34m\u001b[0m\u001b[0m\n\u001b[1;32m    522\u001b[0m                 \u001b[0mstart\u001b[0m \u001b[0;34m=\u001b[0m \u001b[0mstart\u001b[0m\u001b[0;34m.\u001b[0m\u001b[0mtolist\u001b[0m\u001b[0;34m(\u001b[0m\u001b[0;34m)\u001b[0m\u001b[0;34m\u001b[0m\u001b[0;34m\u001b[0m\u001b[0m\n\u001b[0;32m--> 523\u001b[0;31m             \u001b[0;32mreturn\u001b[0m \u001b[0;34m[\u001b[0m\u001b[0;32mNone\u001b[0m \u001b[0;32mif\u001b[0m \u001b[0mx\u001b[0m \u001b[0;32mis\u001b[0m \u001b[0;32mNone\u001b[0m \u001b[0;32melse\u001b[0m \u001b[0mx\u001b[0m\u001b[0;34m[\u001b[0m\u001b[0mstart\u001b[0m\u001b[0;34m]\u001b[0m \u001b[0;32mfor\u001b[0m \u001b[0mx\u001b[0m \u001b[0;32min\u001b[0m \u001b[0marrays\u001b[0m\u001b[0;34m]\u001b[0m\u001b[0;34m\u001b[0m\u001b[0;34m\u001b[0m\u001b[0m\n\u001b[0m\u001b[1;32m    524\u001b[0m         \u001b[0;32melse\u001b[0m\u001b[0;34m:\u001b[0m\u001b[0;34m\u001b[0m\u001b[0;34m\u001b[0m\u001b[0m\n\u001b[1;32m    525\u001b[0m             \u001b[0;32mreturn\u001b[0m \u001b[0;34m[\u001b[0m\u001b[0;32mNone\u001b[0m \u001b[0;32mif\u001b[0m \u001b[0mx\u001b[0m \u001b[0;32mis\u001b[0m \u001b[0;32mNone\u001b[0m \u001b[0;32melse\u001b[0m \u001b[0mx\u001b[0m\u001b[0;34m[\u001b[0m\u001b[0mstart\u001b[0m\u001b[0;34m:\u001b[0m\u001b[0mstop\u001b[0m\u001b[0;34m]\u001b[0m \u001b[0;32mfor\u001b[0m \u001b[0mx\u001b[0m \u001b[0;32min\u001b[0m \u001b[0marrays\u001b[0m\u001b[0;34m]\u001b[0m\u001b[0;34m\u001b[0m\u001b[0;34m\u001b[0m\u001b[0m\n",
      "\u001b[0;32m~/.local/lib/python3.6/site-packages/keras/utils/generic_utils.py\u001b[0m in \u001b[0;36m<listcomp>\u001b[0;34m(.0)\u001b[0m\n\u001b[1;32m    521\u001b[0m             \u001b[0;32mif\u001b[0m \u001b[0mhasattr\u001b[0m\u001b[0;34m(\u001b[0m\u001b[0mstart\u001b[0m\u001b[0;34m,\u001b[0m \u001b[0;34m'shape'\u001b[0m\u001b[0;34m)\u001b[0m\u001b[0;34m:\u001b[0m\u001b[0;34m\u001b[0m\u001b[0;34m\u001b[0m\u001b[0m\n\u001b[1;32m    522\u001b[0m                 \u001b[0mstart\u001b[0m \u001b[0;34m=\u001b[0m \u001b[0mstart\u001b[0m\u001b[0;34m.\u001b[0m\u001b[0mtolist\u001b[0m\u001b[0;34m(\u001b[0m\u001b[0;34m)\u001b[0m\u001b[0;34m\u001b[0m\u001b[0;34m\u001b[0m\u001b[0m\n\u001b[0;32m--> 523\u001b[0;31m             \u001b[0;32mreturn\u001b[0m \u001b[0;34m[\u001b[0m\u001b[0;32mNone\u001b[0m \u001b[0;32mif\u001b[0m \u001b[0mx\u001b[0m \u001b[0;32mis\u001b[0m \u001b[0;32mNone\u001b[0m \u001b[0;32melse\u001b[0m \u001b[0mx\u001b[0m\u001b[0;34m[\u001b[0m\u001b[0mstart\u001b[0m\u001b[0;34m]\u001b[0m \u001b[0;32mfor\u001b[0m \u001b[0mx\u001b[0m \u001b[0;32min\u001b[0m \u001b[0marrays\u001b[0m\u001b[0;34m]\u001b[0m\u001b[0;34m\u001b[0m\u001b[0;34m\u001b[0m\u001b[0m\n\u001b[0m\u001b[1;32m    524\u001b[0m         \u001b[0;32melse\u001b[0m\u001b[0;34m:\u001b[0m\u001b[0;34m\u001b[0m\u001b[0;34m\u001b[0m\u001b[0m\n\u001b[1;32m    525\u001b[0m             \u001b[0;32mreturn\u001b[0m \u001b[0;34m[\u001b[0m\u001b[0;32mNone\u001b[0m \u001b[0;32mif\u001b[0m \u001b[0mx\u001b[0m \u001b[0;32mis\u001b[0m \u001b[0;32mNone\u001b[0m \u001b[0;32melse\u001b[0m \u001b[0mx\u001b[0m\u001b[0;34m[\u001b[0m\u001b[0mstart\u001b[0m\u001b[0;34m:\u001b[0m\u001b[0mstop\u001b[0m\u001b[0;34m]\u001b[0m \u001b[0;32mfor\u001b[0m \u001b[0mx\u001b[0m \u001b[0;32min\u001b[0m \u001b[0marrays\u001b[0m\u001b[0;34m]\u001b[0m\u001b[0;34m\u001b[0m\u001b[0;34m\u001b[0m\u001b[0m\n",
      "\u001b[0;31mKeyboardInterrupt\u001b[0m: "
     ]
    }
   ],
   "source": [
    "logdir = \"~/data/log/mnist/sigmoid\"\n",
    "!mkdir -p $logdir\n",
    "K.clear_session()\n",
    "model = make_model()\n",
    "model.fit(x_train[::60], y_train[::60],\n",
    "          batch_size=batch_size,\n",
    "          epochs=epochs,\n",
    "          verbose=1,\n",
    "          validation_data=(x_test[::10], y_test[::10]),\n",
    "         callbacks=[\n",
    "             TensorBoard(\n",
    "                 logdir, histogram_freq=1, write_grads=True, batch_size=10\n",
    "             )\n",
    "         ])\n"
   ]
  },
  {
   "cell_type": "code",
   "execution_count": null,
   "metadata": {},
   "outputs": [],
   "source": [
    "score = model.evaluate(x_test, y_test, verbose=0)\n",
    "print('Test loss:', score[0])\n",
    "print('Test accuracy:', score[1])"
   ]
  },
  {
   "cell_type": "code",
   "execution_count": null,
   "metadata": {},
   "outputs": [],
   "source": []
  }
 ],
 "metadata": {
  "kernelspec": {
   "display_name": "Python 3",
   "language": "python",
   "name": "python3"
  },
  "language_info": {
   "codemirror_mode": {
    "name": "ipython",
    "version": 3
   },
   "file_extension": ".py",
   "mimetype": "text/x-python",
   "name": "python",
   "nbconvert_exporter": "python",
   "pygments_lexer": "ipython3",
   "version": "3.6.7"
  }
 },
 "nbformat": 4,
 "nbformat_minor": 2
}
