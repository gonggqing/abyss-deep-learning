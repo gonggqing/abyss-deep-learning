{
 "cells": [
  {
   "cell_type": "code",
   "execution_count": null,
   "metadata": {},
   "outputs": [],
   "source": [
    "import itertools\n",
    "import os\n",
    "import random\n",
    "from abc import ABCMeta, abstractmethod\n",
    "from contextlib import redirect_stdout\n",
    "from sys import stderr\n",
    "import matplotlib.pyplot as plt\n",
    "\n",
    "from pycocotools.coco import COCO\n",
    "from skimage.io import imread\n",
    "\n",
    "DATA_DIR = \"/home/docker/src/abyss/deep-learning/data\""
   ]
  },
  {
   "cell_type": "markdown",
   "metadata": {},
   "source": [
    "# Coco data format"
   ]
  },
  {
   "cell_type": "code",
   "execution_count": null,
   "metadata": {},
   "outputs": [],
   "source": [
    "from abyss_deep_learning.datasets.coco import ImageClassificationDataset\n",
    "from abyss_deep_learning.datasets.translators import AnnotationTranslator"
   ]
  },
  {
   "cell_type": "markdown",
   "metadata": {},
   "source": [
    "# Test COCO Realisations"
   ]
  },
  {
   "cell_type": "markdown",
   "metadata": {},
   "source": [
    "## Data type: Classification, Task: Classification"
   ]
  },
  {
   "cell_type": "code",
   "execution_count": null,
   "metadata": {},
   "outputs": [],
   "source": [
    "class BasicCsvCaptions(AnnotationTranslator):\n",
    "    '''base class to transform annotations'''\n",
    "    def __init__(self):\n",
    "        pass\n",
    "    def filter(self, annotation):\n",
    "        '''Whether or not to use a annotation'''\n",
    "        return 'caption' in annotation\n",
    "    def translate(self, annotation):\n",
    "        '''Transform the annotation in to a list of captions'''\n",
    "        return annotation['caption'].split(',')\n",
    "\n",
    "ds = ImageClassificationDataset(\n",
    "    os.path.join(DATA_DIR, \"coco-caption.json\"),\n",
    "    image_dir=DATA_DIR,\n",
    "    cached=False, translator=BasicCsvCaptions())\n",
    "# ds.caption_map"
   ]
  },
  {
   "cell_type": "code",
   "execution_count": null,
   "metadata": {},
   "outputs": [],
   "source": [
    "image, caption = ds.sample()\n",
    "print(\"sample:\", image.shape, caption)\n",
    "print(\"generated:\")\n",
    "for image, label in ds.generator(endless=False):\n",
    "    print(image.shape, label)\n",
    "    plt.figure()\n",
    "    plt.imshow(image)\n",
    "    break"
   ]
  },
  {
   "cell_type": "markdown",
   "metadata": {},
   "source": [
    "## Data type: Object detection, Task: Classification"
   ]
  },
  {
   "cell_type": "code",
   "execution_count": null,
   "metadata": {},
   "outputs": [],
   "source": [
    "from skimage.transform import resize\n",
    "\n",
    "def image_transformer(image):\n",
    "    return resize(image, (299, 299), mode='constant', cval=0)\n",
    "\n",
    "class CaptionsFromCatId(AnnotationTranslator):\n",
    "    '''base class to transform annotations'''\n",
    "    def __init__(self):\n",
    "        pass\n",
    "    def filter(self, annotation):\n",
    "        '''Whether or not to use a annotation'''\n",
    "        return 'segmentation' in annotation\n",
    "    def translate(self, annotation):\n",
    "        '''Transform the annotation in to a list of captions'''\n",
    "        return [annotation['category_id']]\n",
    "\n",
    "ds = ImageClassificationDataset(\n",
    "    os.path.join(DATA_DIR, \"coco-segmentation.json\"),\n",
    "    image_dir=DATA_DIR,\n",
    "    cached=True,\n",
    "    preprocess_data=image_transformer,\n",
    "    translator=CaptionsFromCatId()\n",
    ")\n"
   ]
  },
  {
   "cell_type": "code",
   "execution_count": null,
   "metadata": {},
   "outputs": [],
   "source": [
    "# %%timeit -n1 -r3\n",
    "'''Check difference in timing when setting cached True/False'''\n",
    "\n",
    "image, caption = ds.sample()\n",
    "print(\"sample:\", image.shape, caption)\n",
    "print(\"generated:\")\n",
    "for image, label in ds.generator(endless=False):\n",
    "    print(image.shape, label)\n",
    "    plt.figure()\n",
    "    plt.imshow(image)\n",
    "    break"
   ]
  },
  {
   "cell_type": "code",
   "execution_count": null,
   "metadata": {},
   "outputs": [],
   "source": [
    "ds.print_class_stats()"
   ]
  },
  {
   "cell_type": "code",
   "execution_count": null,
   "metadata": {},
   "outputs": [],
   "source": []
  },
  {
   "cell_type": "code",
   "execution_count": null,
   "metadata": {},
   "outputs": [],
   "source": []
  }
 ],
 "metadata": {
  "language_info": {
   "name": "python",
   "pygments_lexer": "ipython3"
  }
 },
 "nbformat": 4,
 "nbformat_minor": 2
}
