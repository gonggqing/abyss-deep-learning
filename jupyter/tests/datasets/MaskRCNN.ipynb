{
 "cells": [
  {
   "cell_type": "code",
   "execution_count": null,
   "metadata": {},
   "outputs": [],
   "source": [
    "\"\"\"\n",
    "abyss-dataset test\n",
    "\"\"\"\n",
    "from mrcnn.visualize import display_instances\n",
    "from mrcnn.utils import extract_bboxes\n",
    "from abyss_deep_learning.datasets.coco import MaskRcnnInstSegDataset\n",
    "import numpy as np"
   ]
  },
  {
   "cell_type": "markdown",
   "metadata": {},
   "source": [
    "# Load dataset"
   ]
  },
  {
   "cell_type": "code",
   "execution_count": null,
   "metadata": {},
   "outputs": [],
   "source": [
    "ds = MaskRcnnInstSegDataset(\n",
    "    \"/data/acfr/collated/2017-summer-lettuce/20170329T000000/train.json\",\n",
    "    \"/home/docker/src/abyss/deep-learning/configs/MaskRCNN_default_config.py\",\n",
    "    cached=False\n",
    ")"
   ]
  },
  {
   "cell_type": "markdown",
   "metadata": {},
   "source": [
    "# Test generator interface"
   ]
  },
  {
   "cell_type": "code",
   "execution_count": null,
   "metadata": {},
   "outputs": [],
   "source": [
    "print(\"Class IDs\")\n",
    "print(ds.class_ids)"
   ]
  },
  {
   "cell_type": "code",
   "execution_count": null,
   "metadata": {},
   "outputs": [],
   "source": [
    "def postprocess_data(image):\n",
    "    print(image.min(), image.max())\n",
    "    return image + 127.5\n",
    "\n",
    "def display_from_gen(*inputs):\n",
    "        from mrcnn.utils import mold_mask, unmold_mask\n",
    "        N = np.argwhere(inputs[4][0] == 0)[0][0]\n",
    "        image, image_meta = inputs[0][0], inputs[1][0]\n",
    "        rpn_match, rpn_bbox = inputs[2][0], inputs[3][0]\n",
    "        gt_class_ids, gt_boxes, gt_masks = inputs[4][0, :N], inputs[5][0, :N], inputs[6][0, ..., :N]\n",
    "\n",
    "        masks = np.array([\n",
    "            unmold_mask(gt_masks[..., idx], gt_boxes[idx], image.shape)\n",
    "            for idx in range(N)]).transpose([1, 2, 0])\n",
    "\n",
    "        display_instances(\n",
    "            postprocess_data(image), gt_boxes, masks, gt_class_ids, class_names)\n",
    "\n",
    "class_names = ['bg'] + ds.class_names\n",
    "for (inputs, targets) in ds.mrcnn_generator(detection_targets=False):\n",
    "    display_from_gen(*inputs)\n",
    "    break"
   ]
  },
  {
   "cell_type": "code",
   "execution_count": null,
   "metadata": {},
   "outputs": [],
   "source": []
  }
 ],
 "metadata": {
  "language_info": {
   "name": "python",
   "pygments_lexer": "ipython3"
  }
 },
 "nbformat": 4,
 "nbformat_minor": 2
}
