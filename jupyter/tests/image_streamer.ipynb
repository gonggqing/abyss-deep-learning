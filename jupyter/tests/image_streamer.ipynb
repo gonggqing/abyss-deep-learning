{
 "cells": [
  {
   "cell_type": "code",
   "execution_count": null,
   "metadata": {},
   "outputs": [],
   "source": [
    "import matplotlib.pyplot as plt\n",
    "from abyss_deep_learning.utils import image_streamer"
   ]
  },
  {
   "cell_type": "code",
   "execution_count": null,
   "metadata": {},
   "outputs": [],
   "source": [
    "sources = [\n",
    "    \"/data/abyss/jacobs/LS802665-database-corrected-filenames_val.json\",\n",
    "    \"/data/abyss/jacobs/LS179251-images/*.png\",\n",
    "#     \"/data/abyss/jacobs/video/LS*.mpg\"\n",
    "]\n",
    "\n",
    "for source, frame_no, frame in image_streamer(sources):\n",
    "    print(frame_no, source)\n",
    "plt.figure()\n",
    "plt.imshow(frame)"
   ]
  },
  {
   "cell_type": "code",
   "execution_count": null,
   "metadata": {},
   "outputs": [],
   "source": []
  },
  {
   "cell_type": "code",
   "execution_count": null,
   "metadata": {},
   "outputs": [],
   "source": []
  }
 ],
 "metadata": {
  "language_info": {
   "name": "python",
   "pygments_lexer": "ipython3"
  }
 },
 "nbformat": 4,
 "nbformat_minor": 2
}
