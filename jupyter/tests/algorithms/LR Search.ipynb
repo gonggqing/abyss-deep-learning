{
 "cells": [
  {
   "cell_type": "code",
   "execution_count": 1,
   "metadata": {
    "ExecuteTime": {
     "end_time": "2018-10-30T06:02:26.718358Z",
     "start_time": "2018-10-30T06:02:24.857304Z"
    }
   },
   "outputs": [
    {
     "name": "stderr",
     "output_type": "stream",
     "text": [
      "/usr/local/lib/python3.5/dist-packages/h5py/__init__.py:36: FutureWarning: Conversion of the second argument of issubdtype from `float` to `np.floating` is deprecated. In future, it will be treated as `np.float64 == np.dtype(float).type`.\n",
      "  from ._conv import register_converters as _register_converters\n",
      "Using TensorFlow backend.\n"
     ]
    }
   ],
   "source": [
    "import os\n",
    "from collections import Counter\n",
    "from itertools import cycle\n",
    "\n",
    "os.environ['CUDA_VISIBLE_DEVICES'] = ''\n",
    "\n",
    "import keras.backend as K\n",
    "import matplotlib.pyplot as plt\n",
    "import numpy as np\n",
    "from abyss_deep_learning.utils import detile, tile_gen\n",
    "# from numpy.lib.stride_tricks import as_strided as ast\n",
    "from skimage.color import rgb2gray"
   ]
  },
  {
   "cell_type": "code",
   "execution_count": 291,
   "metadata": {
    "ExecuteTime": {
     "end_time": "2018-10-30T09:20:52.746453Z",
     "start_time": "2018-10-30T09:20:52.731387Z"
    }
   },
   "outputs": [
    {
     "ename": "SyntaxError",
     "evalue": "invalid syntax (<ipython-input-291-71994d318da4>, line 37)",
     "output_type": "error",
     "traceback": [
      "\u001b[0;36m  File \u001b[0;32m\"<ipython-input-291-71994d318da4>\"\u001b[0;36m, line \u001b[0;32m37\u001b[0m\n\u001b[0;31m    if self.model.optimi\u001b[0m\n\u001b[0m                        ^\u001b[0m\n\u001b[0;31mSyntaxError\u001b[0m\u001b[0;31m:\u001b[0m invalid syntax\n"
     ]
    }
   ],
   "source": [
    "\n",
    "#### Generic Algorithms\n",
    "\n",
    "class LRSearch(object):\n",
    "    def __init__(self, model, x, y=None, batch_size=None):\n",
    "        self.model = model\n",
    "        self.results = {'final_loss': dict(), 'improvement': dict(), 'history': dict(), 'epochs': dict()}\n",
    "        self.inputs = x\n",
    "        self.targets = y\n",
    "        self.batch_size = batch_size\n",
    "        if not model.built:\n",
    "            raise ValueError(\"Model must be compiled first.\")\n",
    "        self.weights = self.model.get_weights()\n",
    "        \n",
    "    def fit(self, n_lrs=10, n_epochs=1, lr_power_range=(-5, -2), **kwargs):\n",
    "        from types import GeneratorType\n",
    "        from keras.callbacks import TerminateOnNaN\n",
    "        kwargs['callbacks'] = [TerminateOnNaN()]\n",
    "        for learning_rate in 10 ** np.random.uniform(lr_power_range[0], lr_power_range[1], n_lrs):\n",
    "            print(\"Starting LR {:e}\".format(learning_rate))\n",
    "            self.model.reset_states()\n",
    "            self.model.set_weights(self.weights)\n",
    "            K.set_value(self.model.optimizer.lr, learning_rate)\n",
    "            if isinstance(self.inputs, GeneratorType):\n",
    "                result = self.model.fit_generator(\n",
    "                    self.inputs, epochs=n_epochs, verbose=0, **kwargs)\n",
    "            else:\n",
    "                result = self.model.fit(\n",
    "                    self.inputs, self.targets, batch_size=self.batch_size, epochs=n_epochs, verbose=0, **kwargs)\n",
    "            self.results['final_loss'][float(learning_rate)] = result.history['loss'][-1]\n",
    "            self.results['improvement'][float(learning_rate)] = result.history['loss'][-1] - result.history['loss'][0]\n",
    "            self.results['history'][float(learning_rate)] = result.history['loss']\n",
    "            self.results['epochs'][float(learning_rate)] = result.epoch\n",
    "            \n",
    "    \n",
    "    def plot(self):\n",
    "        if self.model.optimizer == 'categorical_crossentropy'\n",
    "        rand_loss = -np.log(1 / y_gt.shape[1])\n",
    "\n",
    "        x, y = list(self.results['final_loss'].keys()), list(self.results['final_loss'].values())\n",
    "        plt.figure()\n",
    "        fig, ax1 = plt.subplots()\n",
    "        ax1.semilogx(x, 100 * (1 - y / rand_loss), 'x')\n",
    "\n",
    "        ax1.grid(True)\n",
    "        ax1.set_ylabel('final loss (% better than rand)')\n",
    "        ax1.tick_params('y')\n",
    "        ax1.set_xlabel(\"learning rate\")\n",
    "        ax1.set_ylim([-50, 100])"
   ]
  },
  {
   "cell_type": "code",
   "execution_count": 290,
   "metadata": {
    "ExecuteTime": {
     "end_time": "2018-10-30T08:52:40.377307Z",
     "start_time": "2018-10-30T08:52:40.371327Z"
    }
   },
   "outputs": [
    {
     "data": {
      "text/plain": [
       "'categorical_crossentropy'"
      ]
     },
     "execution_count": 290,
     "metadata": {},
     "output_type": "execute_result"
    }
   ],
   "source": [
    "search.model.loss"
   ]
  },
  {
   "cell_type": "code",
   "execution_count": 275,
   "metadata": {
    "ExecuteTime": {
     "end_time": "2018-10-30T07:26:18.347154Z",
     "start_time": "2018-10-30T07:26:18.275764Z"
    }
   },
   "outputs": [
    {
     "name": "stdout",
     "output_type": "stream",
     "text": [
      "(100, 64) (100, 10)\n",
      "-3.30641728975669 29.477298773180898\n",
      "[0. 1. 0. 0. 0. 0. 0. 0. 0. 0.]\n"
     ]
    }
   ],
   "source": [
    "from sklearn.preprocessing import StandardScaler, OneHotEncoder\n",
    "from sklearn.datasets import load_digits\n",
    "x_gt, y_gt = load_digits(return_X_y=True)\n",
    "StandardScaler(copy=False).fit_transform(x_gt)\n",
    "shuf_idx = np.arange(x_gt.shape[0])[:100]\n",
    "np.random.shuffle(shuf_idx)\n",
    "x_gt = np.random.normal(x_gt[shuf_idx, :], 0.333)\n",
    "y_gt = OneHotEncoder(n_values=10, sparse=False).fit_transform(y_gt[shuf_idx].reshape(-1, 1))\n",
    "print(x_gt.shape, y_gt.shape)\n",
    "print(np.min(x_gt), np.max(x_gt))\n",
    "print(y_gt[0, :])"
   ]
  },
  {
   "cell_type": "code",
   "execution_count": 276,
   "metadata": {
    "ExecuteTime": {
     "end_time": "2018-10-30T07:26:19.819093Z",
     "start_time": "2018-10-30T07:26:18.754577Z"
    }
   },
   "outputs": [
    {
     "name": "stdout",
     "output_type": "stream",
     "text": [
      "_________________________________________________________________\n",
      "Layer (type)                 Output Shape              Param #   \n",
      "=================================================================\n",
      "input (InputLayer)           (None, 64)                0         \n",
      "_________________________________________________________________\n",
      "reshape_1 (Reshape)          (None, 8, 8, 1)           0         \n",
      "_________________________________________________________________\n",
      "conv2d_1 (Conv2D)            (None, 6, 6, 2)           20        \n",
      "_________________________________________________________________\n",
      "conv2d_2 (Conv2D)            (None, 4, 4, 4)           76        \n",
      "_________________________________________________________________\n",
      "conv2d_3 (Conv2D)            (None, 2, 2, 8)           296       \n",
      "_________________________________________________________________\n",
      "global_average_pooling2d_1 ( (None, 8)                 0         \n",
      "_________________________________________________________________\n",
      "dense_1 (Dense)              (None, 10)                90        \n",
      "=================================================================\n",
      "Total params: 482\n",
      "Trainable params: 482\n",
      "Non-trainable params: 0\n",
      "_________________________________________________________________\n",
      "Epoch 1/40\n",
      " - 0s - loss: 2.3350 - categorical_accuracy: 0.0900\n",
      "Epoch 2/40\n",
      " - 0s - loss: 2.3177 - categorical_accuracy: 0.0500\n",
      "Epoch 3/40\n",
      " - 0s - loss: 2.3056 - categorical_accuracy: 0.0800\n",
      "Epoch 4/40\n",
      " - 0s - loss: 2.2969 - categorical_accuracy: 0.0500\n",
      "Epoch 5/40\n",
      " - 0s - loss: 2.2898 - categorical_accuracy: 0.0600\n",
      "Epoch 6/40\n",
      " - 0s - loss: 2.2828 - categorical_accuracy: 0.1200\n",
      "Epoch 7/40\n",
      " - 0s - loss: 2.2739 - categorical_accuracy: 0.1400\n",
      "Epoch 8/40\n",
      " - 0s - loss: 2.2620 - categorical_accuracy: 0.1200\n",
      "Epoch 9/40\n",
      " - 0s - loss: 2.2508 - categorical_accuracy: 0.1200\n",
      "Epoch 10/40\n",
      " - 0s - loss: 2.2344 - categorical_accuracy: 0.1400\n",
      "Epoch 11/40\n",
      " - 0s - loss: 2.2189 - categorical_accuracy: 0.1200\n",
      "Epoch 12/40\n",
      " - 0s - loss: 2.1957 - categorical_accuracy: 0.1700\n",
      "Epoch 13/40\n",
      " - 0s - loss: 2.1735 - categorical_accuracy: 0.2100\n",
      "Epoch 14/40\n",
      " - 0s - loss: 2.1424 - categorical_accuracy: 0.2600\n",
      "Epoch 15/40\n",
      " - 0s - loss: 2.0878 - categorical_accuracy: 0.3300\n",
      "Epoch 16/40\n",
      " - 0s - loss: 2.0346 - categorical_accuracy: 0.2800\n",
      "Epoch 17/40\n",
      " - 0s - loss: 1.9653 - categorical_accuracy: 0.4100\n",
      "Epoch 18/40\n",
      " - 0s - loss: 1.8513 - categorical_accuracy: 0.4500\n",
      "Epoch 19/40\n",
      " - 0s - loss: 1.7534 - categorical_accuracy: 0.4300\n",
      "Epoch 20/40\n",
      " - 0s - loss: 1.6582 - categorical_accuracy: 0.5000\n",
      "Epoch 21/40\n",
      " - 0s - loss: 1.5266 - categorical_accuracy: 0.5500\n",
      "Epoch 22/40\n",
      " - 0s - loss: 1.4908 - categorical_accuracy: 0.5400\n",
      "Epoch 23/40\n",
      " - 0s - loss: 1.3197 - categorical_accuracy: 0.5400\n",
      "Epoch 24/40\n",
      " - 0s - loss: 1.9634 - categorical_accuracy: 0.4100\n",
      "Epoch 25/40\n",
      " - 0s - loss: 1.2304 - categorical_accuracy: 0.5700\n",
      "Epoch 26/40\n",
      " - 0s - loss: 1.0815 - categorical_accuracy: 0.6200\n",
      "Epoch 27/40\n",
      " - 0s - loss: 1.3698 - categorical_accuracy: 0.4900\n",
      "Epoch 28/40\n",
      " - 0s - loss: 1.1094 - categorical_accuracy: 0.6100\n",
      "Epoch 29/40\n",
      " - 0s - loss: 0.8804 - categorical_accuracy: 0.7200\n",
      "Epoch 30/40\n",
      " - 0s - loss: 0.8319 - categorical_accuracy: 0.7200\n",
      "Epoch 31/40\n",
      " - 0s - loss: 1.0559 - categorical_accuracy: 0.7000\n",
      "Epoch 32/40\n",
      " - 0s - loss: 0.7641 - categorical_accuracy: 0.7700\n",
      "Epoch 33/40\n",
      " - 0s - loss: 0.6977 - categorical_accuracy: 0.7600\n",
      "Epoch 34/40\n",
      " - 0s - loss: 0.6204 - categorical_accuracy: 0.8100\n",
      "Epoch 35/40\n",
      " - 0s - loss: 0.8291 - categorical_accuracy: 0.7100\n",
      "Epoch 36/40\n",
      " - 0s - loss: 0.6207 - categorical_accuracy: 0.7900\n",
      "Epoch 37/40\n",
      " - 0s - loss: 0.4838 - categorical_accuracy: 0.8400\n",
      "Epoch 38/40\n",
      " - 0s - loss: 0.5100 - categorical_accuracy: 0.8400\n",
      "Epoch 39/40\n",
      " - 0s - loss: 0.5012 - categorical_accuracy: 0.8400\n",
      "Epoch 40/40\n",
      " - 0s - loss: 0.5028 - categorical_accuracy: 0.8500\n"
     ]
    },
    {
     "data": {
      "image/png": "[encoded data removed]",
      "text/plain": [
       "<Figure size 432x288 with 1 Axes>"
      ]
     },
     "metadata": {},
     "output_type": "display_data"
    }
   ],
   "source": [
    "from keras.models import Model\n",
    "from keras.layers import Dense, Input, Conv2D, Reshape, GlobalAveragePooling2D\n",
    "import keras.backend as K\n",
    "from keras.optimizers import SGD\n",
    "\n",
    "def create_model(input_shape, output_dim, learning_rate, optimiser=SGD):\n",
    "    x0 = Input(shape=input_shape, name='input')\n",
    "    x = Reshape((8, 8, 1))(x0)\n",
    "    x = Conv2D(2, 3, activation='relu')(x)\n",
    "    x = Conv2D(4, 3, activation='relu')(x)\n",
    "    x = Conv2D(8, 3, activation='relu')(x)\n",
    "    x = GlobalAveragePooling2D()(x)\n",
    "    x = Dense(output_dim, activation='softmax')(x)\n",
    "    model = Model(x0, x)\n",
    "    model.compile(\n",
    "        optimiser(lr=learning_rate), 'categorical_crossentropy',\n",
    "        metrics=['categorical_accuracy'])\n",
    "    return model\n",
    "\n",
    "def test_model(learning_rate, epochs=40):\n",
    "    model = None\n",
    "    K.clear_session()\n",
    "    model = create_model(\n",
    "        input_shape=x_gt.shape[1:], output_dim=y_gt.shape[-1], learning_rate=learning_rate)\n",
    "    model.summary()\n",
    "    history = model.fit(x_gt, y_gt, epochs=epochs, verbose=2)\n",
    "    plt.figure()\n",
    "    plt.plot(history.epoch, history.history['loss'])\n",
    "    plt.plot(history.epoch, np.ones_like(history.epoch) * -np.log(1/y_gt.shape[1]), 'r--')\n",
    "    plt.xlabel(\"epoch\")\n",
    "    plt.ylabel(\"loss\")\n",
    "    plt.title(\"Loss curve over {:d} epochs\".format(epochs))\n",
    "    return history\n",
    "\n",
    "test_model(learning_rate=1e-1);"
   ]
  },
  {
   "cell_type": "code",
   "execution_count": 277,
   "metadata": {
    "ExecuteTime": {
     "end_time": "2018-10-30T07:26:23.252465Z",
     "start_time": "2018-10-30T07:26:23.107895Z"
    }
   },
   "outputs": [],
   "source": [
    "model = None\n",
    "K.clear_session()\n",
    "model = create_model(input_shape=x_gt.shape[1:], output_dim=y_gt.shape[1], learning_rate=0.01)\n",
    "\n",
    "search = LRSearch(model, x_gt, y_gt, batch_size=32)\n"
   ]
  },
  {
   "cell_type": "code",
   "execution_count": 288,
   "metadata": {
    "ExecuteTime": {
     "end_time": "2018-10-30T07:32:59.404059Z",
     "start_time": "2018-10-30T07:32:56.959514Z"
    }
   },
   "outputs": [
    {
     "name": "stdout",
     "output_type": "stream",
     "text": [
      "Starting LR 1.258718e-01\n",
      "Starting LR 8.147884e-02\n",
      "Starting LR 5.597492e-01\n",
      "Starting LR 6.272295e-01\n",
      "Starting LR 8.228154e-04\n",
      "Starting LR 2.731174e+00\n",
      "Starting LR 1.853203e+01\n",
      "Starting LR 1.530596e-04\n",
      "Starting LR 5.047753e+01\n",
      "Starting LR 3.531073e-01\n",
      "Starting LR 9.506012e+01\n",
      "Starting LR 1.256849e-04\n",
      "Starting LR 4.354772e+01\n",
      "Starting LR 1.956019e+01\n",
      "Starting LR 4.825336e+01\n",
      "Starting LR 3.448998e-04\n",
      "Starting LR 5.328747e-02\n",
      "Starting LR 3.322767e-02\n",
      "Starting LR 8.366597e-01\n",
      "Starting LR 8.033994e+01\n"
     ]
    }
   ],
   "source": [
    "search.fit(n_lrs=20, n_epochs=15, lr_power_range=(-4, 2))"
   ]
  },
  {
   "cell_type": "code",
   "execution_count": 289,
   "metadata": {
    "ExecuteTime": {
     "end_time": "2018-10-30T07:33:01.564902Z",
     "start_time": "2018-10-30T07:33:00.720625Z"
    }
   },
   "outputs": [
    {
     "data": {
      "text/plain": [
       "<Figure size 432x288 with 0 Axes>"
      ]
     },
     "metadata": {},
     "output_type": "display_data"
    },
    {
     "data": {
      "image/png": "[encoded data removed]",
      "text/plain": [
       "<Figure size 432x288 with 1 Axes>"
      ]
     },
     "metadata": {},
     "output_type": "display_data"
    },
    {
     "data": {
      "image/png": "[encoded data removed]",
      "text/plain": [
       "<Figure size 432x288 with 1 Axes>"
      ]
     },
     "metadata": {},
     "output_type": "display_data"
    }
   ],
   "source": [
    "search.plot()"
   ]
  },
  {
   "cell_type": "code",
   "execution_count": null,
   "metadata": {
    "ExecuteTime": {
     "end_time": "2018-10-30T05:53:04.155958Z",
     "start_time": "2018-10-30T05:53:04.145772Z"
    }
   },
   "outputs": [],
   "source": []
  },
  {
   "cell_type": "code",
   "execution_count": null,
   "metadata": {},
   "outputs": [],
   "source": []
  },
  {
   "cell_type": "code",
   "execution_count": null,
   "metadata": {},
   "outputs": [],
   "source": []
  }
 ],
 "metadata": {
  "kernelspec": {
   "display_name": "Python 3",
   "language": "python",
   "name": "python3"
  },
  "language_info": {
   "codemirror_mode": {
    "name": "ipython",
    "version": 3
   },
   "file_extension": ".py",
   "mimetype": "text/x-python",
   "name": "python",
   "nbconvert_exporter": "python",
   "pygments_lexer": "ipython3",
   "version": "3.5.2"
  },
  "toc": {
   "base_numbering": 1,
   "nav_menu": {},
   "number_sections": true,
   "sideBar": true,
   "skip_h1_title": false,
   "title_cell": "Table of Contents",
   "title_sidebar": "Contents",
   "toc_cell": false,
   "toc_position": {},
   "toc_section_display": true,
   "toc_window_display": false
  },
  "varInspector": {
   "cols": {
    "lenName": 16,
    "lenType": 16,
    "lenVar": 40
   },
   "kernels_config": {
    "python": {
     "delete_cmd_postfix": "",
     "delete_cmd_prefix": "del ",
     "library": "var_list.py",
     "varRefreshCmd": "print(var_dic_list())"
    },
    "r": {
     "delete_cmd_postfix": ") ",
     "delete_cmd_prefix": "rm(",
     "library": "var_list.r",
     "varRefreshCmd": "cat(var_dic_list()) "
    }
   },
   "types_to_exclude": [
    "module",
    "function",
    "builtin_function_or_method",
    "instance",
    "_Feature"
   ],
   "window_display": false
  }
 },
 "nbformat": 4,
 "nbformat_minor": 2
}
