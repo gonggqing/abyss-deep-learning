{
 "cells": [
  {
   "cell_type": "code",
   "execution_count": 162,
   "metadata": {
    "ExecuteTime": {
     "end_time": "2018-11-28T05:33:27.483889Z",
     "start_time": "2018-11-28T05:33:27.478410Z"
    }
   },
   "outputs": [],
   "source": [
    "from __future__ import print_function\n",
    "\n",
    "import os\n",
    "\n",
    "import keras\n",
    "import matplotlib.pyplot as plt\n",
    "import numpy as np\n",
    "import pandas as pd\n",
    "from keras import backend as K\n",
    "from keras.callbacks import TensorBoard\n",
    "from keras.datasets import mnist\n",
    "from keras.layers import Conv2D, Dense, Dropout, Flatten, MaxPooling2D, GlobalAveragePooling2D\n",
    "from keras.models import Sequential\n",
    "\n",
    "os.environ['CUDA_VISIBLE_DEVICES'] = ''"
   ]
  },
  {
   "cell_type": "code",
   "execution_count": 2,
   "metadata": {
    "ExecuteTime": {
     "end_time": "2018-11-28T04:17:37.876302Z",
     "start_time": "2018-11-28T04:17:37.522579Z"
    }
   },
   "outputs": [
    {
     "name": "stdout",
     "output_type": "stream",
     "text": [
      "x_train shape: (60000, 28, 28, 1)\n",
      "60000 train samples\n",
      "10000 test samples\n"
     ]
    }
   ],
   "source": [
    "batch_size = 10\n",
    "num_classes = 10\n",
    "epochs = 50\n",
    "\n",
    "# input image dimensions\n",
    "img_rows, img_cols = 28, 28\n",
    "\n",
    "# the data, split between train and test sets\n",
    "(x_train, y_train), (x_test, y_test) = mnist.load_data()\n",
    "\n",
    "x_train = x_train.reshape(x_train.shape[0], img_rows, img_cols, 1)\n",
    "x_test = x_test.reshape(x_test.shape[0], img_rows, img_cols, 1)\n",
    "input_shape = (img_rows, img_cols, 1)\n",
    "\n",
    "x_train = x_train.astype('float32')\n",
    "x_test = x_test.astype('float32')\n",
    "x_train /= 255\n",
    "x_test /= 255\n",
    "print('x_train shape:', x_train.shape)\n",
    "print(x_train.shape[0], 'train samples')\n",
    "print(x_test.shape[0], 'test samples')\n",
    "\n",
    "# convert class vectors to binary class matrices\n",
    "y_train = keras.utils.to_categorical(y_train, num_classes)\n",
    "y_test = keras.utils.to_categorical(y_test, num_classes)"
   ]
  },
  {
   "cell_type": "code",
   "execution_count": 179,
   "metadata": {
    "ExecuteTime": {
     "end_time": "2018-11-28T05:40:51.595936Z",
     "start_time": "2018-11-28T05:40:51.586459Z"
    }
   },
   "outputs": [],
   "source": [
    "def make_model():\n",
    "    \"\"\"A really small model to illustrate the algorithm working\"\"\"\n",
    "    model = Sequential()\n",
    "    model.add(Conv2D(16, kernel_size=(3, 3),\n",
    "                     activation='relu',\n",
    "                     input_shape=input_shape))\n",
    "    model.add(Conv2D(16, (3, 3), activation='relu'))\n",
    "    model.add(MaxPooling2D(pool_size=(2, 2)))\n",
    "    model.add(Flatten())\n",
    "    model.add(Dense(num_classes, activation='sigmoid'))\n",
    "\n",
    "    model.compile(loss=keras.losses.binary_crossentropy,\n",
    "                  optimizer=keras.optimizers.Adadelta(),\n",
    "                  metrics=['binary_accuracy', 'categorical_accuracy', 'mse'])\n",
    "    return model"
   ]
  },
  {
   "cell_type": "code",
   "execution_count": 180,
   "metadata": {
    "ExecuteTime": {
     "end_time": "2018-11-28T05:40:53.062771Z",
     "start_time": "2018-11-28T05:40:53.051718Z"
    }
   },
   "outputs": [],
   "source": [
    "class LearningCurve:\n",
    "    def __init__(self, model, batch_size, epochs=10):\n",
    "        self.model = model\n",
    "        self.init_weights = model.get_weights()\n",
    "        self.results = {}\n",
    "        self.batch_size = batch_size\n",
    "        self.epochs = epochs\n",
    "        \n",
    "    def revert_model(self):\n",
    "        self.model.set_weights(self.init_weights)\n",
    "        self.model.reset_states()\n",
    "        \n",
    "    def fit(self, x_train, y_train, x_test, y_test, n_divs=5, verbose=1):\n",
    "        idx = np.arange(len(x_train))\n",
    "        np.random.shuffle(idx)\n",
    "        num_data = len(x_train)\n",
    "        data_step = num_data // n_divs\n",
    "        \n",
    "        \n",
    "        for idx_end in np.floor(10 ** np.linspace(1,  np.log10(num_data), n_divs)).astype(int):\n",
    "            idx_range = idx[:idx_end]\n",
    "            self.revert_model()\n",
    "            self.results[idx_end] = model.fit(x_train[idx_range], y_train[idx_range],\n",
    "                batch_size=self.batch_size,\n",
    "                epochs=self.epochs,\n",
    "                verbose=verbose,\n",
    "                validation_data=(x_test, y_test))\n",
    "            \n",
    "    def fit_generator(self, train_gen, x_test, y_test, n_divs=5, verbose=1):\n",
    "        idx = np.arange(len(x_train))\n",
    "        np.random.shuffle(idx)\n",
    "        num_data = len(x_train)\n",
    "        data_step = num_data // n_divs\n",
    "        \n",
    "        \n",
    "        for idx_end in np.floor(10 ** np.linspace(1,  np.log10(num_data), n_divs)).astype(int):\n",
    "            idx_range = idx[:idx_end]\n",
    "            self.revert_model()\n",
    "            self.results[idx_end] = model.fit(x_train[idx_range], y_train[idx_range],\n",
    "                batch_size=self.batch_size,\n",
    "                epochs=self.epochs,\n",
    "                verbose=verbose,\n",
    "                validation_data=(x_test, y_test))\n",
    "            \n",
    "    def plot(self):\n",
    "        df = pd.DataFrame(\n",
    "            [(metric_name, data_size, metric_value[-1])\n",
    "            for data_size, result in self.results.items()\n",
    "            for metric_name, metric_value in result.history.items()])\n",
    "        df.columns = ['metric', 'data_size', 'value']\n",
    "        df = df.pivot_table(index=['data_size'], columns=['metric'] )\n",
    "        df.columns = df.columns.get_level_values(1)\n",
    "        for col_name in df.columns:\n",
    "            if col_name.startswith(\"val_\"):\n",
    "                continue\n",
    "            if (\"val_\" + col_name) in df.columns:\n",
    "                df[[col_name, \"val_\" + col_name]].plot(grid=True, logx=True, style='.-')\n",
    "            else:\n",
    "                df[[col_name]].plot(grid=True, logx=True, style='.-')\n",
    "        return df\n",
    "\n",
    "            "
   ]
  },
  {
   "cell_type": "code",
   "execution_count": 181,
   "metadata": {
    "ExecuteTime": {
     "end_time": "2018-11-28T05:41:43.202241Z",
     "start_time": "2018-11-28T05:40:54.769262Z"
    },
    "scrolled": true
   },
   "outputs": [
    {
     "name": "stdout",
     "output_type": "stream",
     "text": [
      "_________________________________________________________________\n",
      "Layer (type)                 Output Shape              Param #   \n",
      "=================================================================\n",
      "conv2d_29 (Conv2D)           (None, 26, 26, 16)        160       \n",
      "_________________________________________________________________\n",
      "conv2d_30 (Conv2D)           (None, 24, 24, 16)        2320      \n",
      "_________________________________________________________________\n",
      "max_pooling2d_15 (MaxPooling (None, 12, 12, 16)        0         \n",
      "_________________________________________________________________\n",
      "flatten_12 (Flatten)         (None, 2304)              0         \n",
      "_________________________________________________________________\n",
      "dense_14 (Dense)             (None, 10)                23050     \n",
      "=================================================================\n",
      "Total params: 25,530\n",
      "Trainable params: 25,530\n",
      "Non-trainable params: 0\n",
      "_________________________________________________________________\n"
     ]
    }
   ],
   "source": [
    "model = make_model()\n",
    "model.summary()\n",
    "learning_curve = LearningCurve(model, batch_size=10, epochs=5)\n",
    "learning_curve.fit(\n",
    "    x_train[::10], y_train[::10], x_test[::50], y_test[::50],\n",
    "    n_divs=10,\n",
    "    verbose=0)"
   ]
  },
  {
   "cell_type": "code",
   "execution_count": 182,
   "metadata": {
    "ExecuteTime": {
     "end_time": "2018-11-28T05:41:46.138671Z",
     "start_time": "2018-11-28T05:41:44.503445Z"
    }
   },
   "outputs": [
    {
     "data": {
      "text/html": [
       "<div>\n",
       "<style scoped>\n",
       "    .dataframe tbody tr th:only-of-type {\n",
       "        vertical-align: middle;\n",
       "    }\n",
       "\n",
       "    .dataframe tbody tr th {\n",
       "        vertical-align: top;\n",
       "    }\n",
       "\n",
       "    .dataframe thead th {\n",
       "        text-align: right;\n",
       "    }\n",
       "</style>\n",
       "<table border=\"1\" class=\"dataframe\">\n",
       "  <thead>\n",
       "    <tr style=\"text-align: right;\">\n",
       "      <th>metric</th>\n",
       "      <th>binary_accuracy</th>\n",
       "      <th>categorical_accuracy</th>\n",
       "      <th>loss</th>\n",
       "      <th>mean_squared_error</th>\n",
       "      <th>val_binary_accuracy</th>\n",
       "      <th>val_categorical_accuracy</th>\n",
       "      <th>val_loss</th>\n",
       "      <th>val_mean_squared_error</th>\n",
       "    </tr>\n",
       "    <tr>\n",
       "      <th>data_size</th>\n",
       "      <th></th>\n",
       "      <th></th>\n",
       "      <th></th>\n",
       "      <th></th>\n",
       "      <th></th>\n",
       "      <th></th>\n",
       "      <th></th>\n",
       "      <th></th>\n",
       "    </tr>\n",
       "  </thead>\n",
       "  <tbody>\n",
       "    <tr>\n",
       "      <th>10</th>\n",
       "      <td>0.900000</td>\n",
       "      <td>0.700000</td>\n",
       "      <td>0.429325</td>\n",
       "      <td>0.125451</td>\n",
       "      <td>0.9000</td>\n",
       "      <td>0.190</td>\n",
       "      <td>0.379250</td>\n",
       "      <td>0.107297</td>\n",
       "    </tr>\n",
       "    <tr>\n",
       "      <th>20</th>\n",
       "      <td>0.900000</td>\n",
       "      <td>0.400000</td>\n",
       "      <td>0.274467</td>\n",
       "      <td>0.076728</td>\n",
       "      <td>0.9000</td>\n",
       "      <td>0.180</td>\n",
       "      <td>0.330682</td>\n",
       "      <td>0.088947</td>\n",
       "    </tr>\n",
       "    <tr>\n",
       "      <th>41</th>\n",
       "      <td>0.900000</td>\n",
       "      <td>0.560976</td>\n",
       "      <td>0.259745</td>\n",
       "      <td>0.074944</td>\n",
       "      <td>0.9000</td>\n",
       "      <td>0.400</td>\n",
       "      <td>0.318902</td>\n",
       "      <td>0.082368</td>\n",
       "    </tr>\n",
       "    <tr>\n",
       "      <th>84</th>\n",
       "      <td>0.932143</td>\n",
       "      <td>0.702381</td>\n",
       "      <td>0.191825</td>\n",
       "      <td>0.053101</td>\n",
       "      <td>0.9225</td>\n",
       "      <td>0.515</td>\n",
       "      <td>0.249808</td>\n",
       "      <td>0.062381</td>\n",
       "    </tr>\n",
       "    <tr>\n",
       "      <th>171</th>\n",
       "      <td>0.950877</td>\n",
       "      <td>0.842105</td>\n",
       "      <td>0.129142</td>\n",
       "      <td>0.036535</td>\n",
       "      <td>0.9420</td>\n",
       "      <td>0.735</td>\n",
       "      <td>0.172060</td>\n",
       "      <td>0.044409</td>\n",
       "    </tr>\n",
       "    <tr>\n",
       "      <th>349</th>\n",
       "      <td>0.966189</td>\n",
       "      <td>0.868195</td>\n",
       "      <td>0.087641</td>\n",
       "      <td>0.025287</td>\n",
       "      <td>0.9510</td>\n",
       "      <td>0.760</td>\n",
       "      <td>0.144705</td>\n",
       "      <td>0.037492</td>\n",
       "    </tr>\n",
       "    <tr>\n",
       "      <th>711</th>\n",
       "      <td>0.972433</td>\n",
       "      <td>0.886076</td>\n",
       "      <td>0.078515</td>\n",
       "      <td>0.021209</td>\n",
       "      <td>0.9655</td>\n",
       "      <td>0.870</td>\n",
       "      <td>0.097284</td>\n",
       "      <td>0.026921</td>\n",
       "    </tr>\n",
       "    <tr>\n",
       "      <th>1448</th>\n",
       "      <td>0.979903</td>\n",
       "      <td>0.925414</td>\n",
       "      <td>0.062512</td>\n",
       "      <td>0.016234</td>\n",
       "      <td>0.9685</td>\n",
       "      <td>0.895</td>\n",
       "      <td>0.081952</td>\n",
       "      <td>0.022848</td>\n",
       "    </tr>\n",
       "    <tr>\n",
       "      <th>2947</th>\n",
       "      <td>0.986834</td>\n",
       "      <td>0.950119</td>\n",
       "      <td>0.042319</td>\n",
       "      <td>0.010653</td>\n",
       "      <td>0.9820</td>\n",
       "      <td>0.955</td>\n",
       "      <td>0.043665</td>\n",
       "      <td>0.012614</td>\n",
       "    </tr>\n",
       "    <tr>\n",
       "      <th>6000</th>\n",
       "      <td>0.991117</td>\n",
       "      <td>0.967667</td>\n",
       "      <td>0.028449</td>\n",
       "      <td>0.007021</td>\n",
       "      <td>0.9885</td>\n",
       "      <td>0.950</td>\n",
       "      <td>0.031692</td>\n",
       "      <td>0.009072</td>\n",
       "    </tr>\n",
       "  </tbody>\n",
       "</table>\n",
       "</div>"
      ],
      "text/plain": [
       "metric     binary_accuracy  categorical_accuracy      loss  \\\n",
       "data_size                                                    \n",
       "10                0.900000              0.700000  0.429325   \n",
       "20                0.900000              0.400000  0.274467   \n",
       "41                0.900000              0.560976  0.259745   \n",
       "84                0.932143              0.702381  0.191825   \n",
       "171               0.950877              0.842105  0.129142   \n",
       "349               0.966189              0.868195  0.087641   \n",
       "711               0.972433              0.886076  0.078515   \n",
       "1448              0.979903              0.925414  0.062512   \n",
       "2947              0.986834              0.950119  0.042319   \n",
       "6000              0.991117              0.967667  0.028449   \n",
       "\n",
       "metric     mean_squared_error  val_binary_accuracy  val_categorical_accuracy  \\\n",
       "data_size                                                                      \n",
       "10                   0.125451               0.9000                     0.190   \n",
       "20                   0.076728               0.9000                     0.180   \n",
       "41                   0.074944               0.9000                     0.400   \n",
       "84                   0.053101               0.9225                     0.515   \n",
       "171                  0.036535               0.9420                     0.735   \n",
       "349                  0.025287               0.9510                     0.760   \n",
       "711                  0.021209               0.9655                     0.870   \n",
       "1448                 0.016234               0.9685                     0.895   \n",
       "2947                 0.010653               0.9820                     0.955   \n",
       "6000                 0.007021               0.9885                     0.950   \n",
       "\n",
       "metric     val_loss  val_mean_squared_error  \n",
       "data_size                                    \n",
       "10         0.379250                0.107297  \n",
       "20         0.330682                0.088947  \n",
       "41         0.318902                0.082368  \n",
       "84         0.249808                0.062381  \n",
       "171        0.172060                0.044409  \n",
       "349        0.144705                0.037492  \n",
       "711        0.097284                0.026921  \n",
       "1448       0.081952                0.022848  \n",
       "2947       0.043665                0.012614  \n",
       "6000       0.031692                0.009072  "
      ]
     },
     "execution_count": 182,
     "metadata": {},
     "output_type": "execute_result"
    },
    {
     "data": {
      "image/png": "[encoded data removed]",
      "text/plain": [
       "<Figure size 432x288 with 1 Axes>"
      ]
     },
     "metadata": {},
     "output_type": "display_data"
    },
    {
     "data": {
      "image/png": "[encoded data removed]",
      "text/plain": [
       "<Figure size 432x288 with 1 Axes>"
      ]
     },
     "metadata": {},
     "output_type": "display_data"
    },
    {
     "data": {
      "image/png": "[encoded data removed]",
      "text/plain": [
       "<Figure size 432x288 with 1 Axes>"
      ]
     },
     "metadata": {},
     "output_type": "display_data"
    },
    {
     "data": {
      "image/png": "[encoded data removed]",
      "text/plain": [
       "<Figure size 432x288 with 1 Axes>"
      ]
     },
     "metadata": {},
     "output_type": "display_data"
    }
   ],
   "source": [
    "learning_curve.plot()"
   ]
  },
  {
   "cell_type": "code",
   "execution_count": null,
   "metadata": {
    "ExecuteTime": {
     "end_time": "2018-11-28T05:22:59.358133Z",
     "start_time": "2018-11-28T05:22:57.949958Z"
    }
   },
   "outputs": [],
   "source": []
  },
  {
   "cell_type": "code",
   "execution_count": null,
   "metadata": {},
   "outputs": [],
   "source": []
  }
 ],
 "metadata": {
  "kernelspec": {
   "display_name": "Python 3",
   "language": "python",
   "name": "python3"
  },
  "language_info": {
   "codemirror_mode": {
    "name": "ipython",
    "version": 3
   },
   "file_extension": ".py",
   "mimetype": "text/x-python",
   "name": "python",
   "nbconvert_exporter": "python",
   "pygments_lexer": "ipython3",
   "version": "3.5.2"
  },
  "toc": {
   "base_numbering": 1,
   "nav_menu": {},
   "number_sections": true,
   "sideBar": true,
   "skip_h1_title": false,
   "title_cell": "Table of Contents",
   "title_sidebar": "Contents",
   "toc_cell": false,
   "toc_position": {},
   "toc_section_display": true,
   "toc_window_display": false
  },
  "varInspector": {
   "cols": {
    "lenName": 16,
    "lenType": 16,
    "lenVar": 40
   },
   "kernels_config": {
    "python": {
     "delete_cmd_postfix": "",
     "delete_cmd_prefix": "del ",
     "library": "var_list.py",
     "varRefreshCmd": "print(var_dic_list())"
    },
    "r": {
     "delete_cmd_postfix": ") ",
     "delete_cmd_prefix": "rm(",
     "library": "var_list.r",
     "varRefreshCmd": "cat(var_dic_list()) "
    }
   },
   "types_to_exclude": [
    "module",
    "function",
    "builtin_function_or_method",
    "instance",
    "_Feature"
   ],
   "window_display": false
  }
 },
 "nbformat": 4,
 "nbformat_minor": 2
}
