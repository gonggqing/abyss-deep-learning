{
 "cells": [
  {
   "cell_type": "markdown",
   "metadata": {},
   "source": [
    "The purpose of this notebook is to analyse trained networks by:\n",
    "- extracting and saving features of a network @Jackson\n",
    "- dimensionality reduction and visualisation to analyse separability of classes @Rishi\n",
    "- simple classification tecniques on extracted features @Rishi"
   ]
  },
  {
   "cell_type": "code",
   "execution_count": null,
   "metadata": {},
   "outputs": [],
   "source": [
    "import numpy as np\n",
    "from sklearn.manifold import TSNE\n",
    "from matplotlib import pyplot as plt\n",
    "import itertools\n",
    "from sklearn import svm\n",
    "from sklearn.neural_network import MLPClassifier\n",
    "from sklearn.metrics import confusion_matrix\n",
    "from sklearn.decomposition import PCA"
   ]
  },
  {
   "cell_type": "markdown",
   "metadata": {},
   "source": [
    "# Saved feature and corresponding label locations"
   ]
  },
  {
   "cell_type": "markdown",
   "metadata": {},
   "source": [
    "- location where features and labels will be, or have already been saved"
   ]
  },
  {
   "cell_type": "code",
   "execution_count": null,
   "metadata": {},
   "outputs": [],
   "source": [
    "# ED class\n",
    "filename_features_ED_train = '/media/rishi/DATA/EDvsALL-features-20180726T055245Z-001/EDvsALL-features/train_gap_feats.npy'\n",
    "filename_labels_ED_train = '/media/rishi/DATA/EDvsALL-features-20180726T055245Z-001/EDvsALL-features/train_y_true.npy'\n",
    "filename_features_ED_val = '/media/rishi/DATA/EDvsALL-features-20180726T055245Z-001/EDvsALL-features/val_gap_feats.npy'\n",
    "filename_labels_ED_val = '/media/rishi/DATA/EDvsALL-features-20180726T055245Z-001/EDvsALL-features/val_y_true.npy'\n",
    "# IP class\n",
    "filename_features_IP_train = '/media/rishi/DATA/IPvsALL-features-20180726T055258Z-001/IPvsALL-features/train_gap_feats.npy'\n",
    "filename_labels_IP_train = '/media/rishi/DATA/IPvsALL-features-20180726T055258Z-001/IPvsALL-features/train_y_true.npy'"
   ]
  },
  {
   "cell_type": "markdown",
   "metadata": {},
   "source": [
    "# Feature Extraction from Network"
   ]
  },
  {
   "cell_type": "markdown",
   "metadata": {},
   "source": [
    " - passes a training and validation dataset through a network and extracts the features\n",
    " - saves the features and corresponding labels to file"
   ]
  },
  {
   "cell_type": "markdown",
   "metadata": {},
   "source": [
    "# Load data"
   ]
  },
  {
   "cell_type": "code",
   "execution_count": null,
   "metadata": {},
   "outputs": [],
   "source": [
    "features_train = np.load( filename_features_ED_train )\n",
    "features_val = np.load( filename_features_ED_val )\n",
    "# labels are one hot embedded so need to take the argmax to get the index of the class\n",
    "labels_train = np.argmax( np.load( filename_labels_ED_train ), axis=1 )\n",
    "labels_val = np.argmax( np.load( filename_labels_ED_val ), axis=1 )"
   ]
  },
  {
   "cell_type": "markdown",
   "metadata": {},
   "source": [
    "# Dimensionality Reduction"
   ]
  },
  {
   "cell_type": "markdown",
   "metadata": {},
   "source": [
    "- uses t Schochastic Neighbourhood Embedding (tSNE) and Principle Component Analysis (PCA) to reduce the dimensionality of the data\n",
    "- Hypothesis: a network that is effective at learning discriminitve features should reveal "
   ]
  },
  {
   "cell_type": "markdown",
   "metadata": {},
   "source": [
    "## PCA"
   ]
  },
  {
   "cell_type": "code",
   "execution_count": null,
   "metadata": {},
   "outputs": [],
   "source": [
    "# compute PCA on the training features\n",
    "dimRed_pca = PCA(n_components=2)\n",
    "dimRed_pca.fit( features_train )"
   ]
  },
  {
   "cell_type": "code",
   "execution_count": null,
   "metadata": {},
   "outputs": [],
   "source": [
    "# apply to training and validation\n",
    "features_embedded_pca_train = dimRed_pca.transform( features_train )\n",
    "labels_embedded_pca_train = labels_train\n",
    "features_embedded_pca_val = dimRed_pca.transform( features_val )\n",
    "labels_embedded_pca_val = labels_val"
   ]
  },
  {
   "cell_type": "code",
   "execution_count": null,
   "metadata": {},
   "outputs": [],
   "source": [
    "# plot the training and validation embeddings\n",
    "for f, l in zip( [features_embedded_pca_train, features_embedded_pca_val], \n",
    "                [labels_embedded_pca_train,labels_embedded_pca_val]):\n",
    "    plt.figure()\n",
    "    marker = itertools.cycle(('x','+','o','p')) \n",
    "    for l_ in np.unique( l ):    \n",
    "        plt.plot( f.T[0][l==l_], f.T[1][l==l_], next( marker) )\n",
    "    plt.grid()\n",
    "    plt.xlabel( 'Dimension 1' )\n",
    "    plt.ylabel( 'Dimension 2' )\n",
    "    plt.title( 'PCA of Features')\n",
    "    plt.show()"
   ]
  },
  {
   "cell_type": "markdown",
   "metadata": {},
   "source": [
    "## TSNE"
   ]
  },
  {
   "cell_type": "markdown",
   "metadata": {},
   "source": [
    "### Only run this cell if tsne is to be run on already reduced data. In that case, run PCA with around 50 or so components"
   ]
  },
  {
   "cell_type": "code",
   "execution_count": null,
   "metadata": {},
   "outputs": [],
   "source": [
    "use_pca_data = False # change to true in order to use PCA data\n",
    "if use_pca_data:\n",
    "    features_train = features_embedded_pca_train\n",
    "    features_val = features_embedded_pca_val\n",
    "    labels_train = labels_embedded_pca_train\n",
    "    labels_val = labels_embedded_pca_val"
   ]
  },
  {
   "cell_type": "code",
   "execution_count": null,
   "metadata": {},
   "outputs": [],
   "source": [
    "# compute the embedding of the training and validation data\n",
    "# note that the same method of embedding cannot be applied to both sets\n",
    "# @TODO - potentially could concatenate the two sets and apply embedding\n",
    "dimRed_tsne = TSNE( n_components=2 )\n",
    "features_embedded_tsne_train = dimRed_tsne.fit_transform( features_train )\n",
    "labels_embedded_tsne_train = labels_train\n",
    "features_embedded_tsne_val = dimRed_tsne.fit_transform( features_val )\n",
    "labels_embedded_tsne_val = labels_val"
   ]
  },
  {
   "cell_type": "code",
   "execution_count": null,
   "metadata": {},
   "outputs": [],
   "source": [
    "# plot the training and validation embeddings\n",
    "for f, l in zip( [features_embedded_tsne_train, features_embedded_tsne_val], \n",
    "                [labels_embedded_tsne_train,labels_embedded_tsne_val]):\n",
    "    plt.figure()\n",
    "    marker = itertools.cycle(('x','+','o','p')) \n",
    "    for l_ in np.unique( l ):    \n",
    "        plt.plot( f.T[0][l==l_], f.T[1][l==l_], next( marker) )\n",
    "    plt.grid()\n",
    "    plt.xlabel( 'Dimension 1' )\n",
    "    plt.ylabel( 'Dimension 2' )\n",
    "    plt.title( 'TSNE of Features')\n",
    "    plt.show()"
   ]
  },
  {
   "cell_type": "markdown",
   "metadata": {},
   "source": [
    "# Classification of Features"
   ]
  },
  {
   "cell_type": "markdown",
   "metadata": {},
   "source": [
    "## Neural Network"
   ]
  },
  {
   "cell_type": "code",
   "execution_count": null,
   "metadata": {},
   "outputs": [],
   "source": [
    "classifier_nn = MLPClassifier( solver='lbfgs', alpha=1e-5, hidden_layer_sizes=(200), random_state=1 )\n",
    "classifier_nn.fit( features_train, labels_train )"
   ]
  },
  {
   "cell_type": "code",
   "execution_count": null,
   "metadata": {},
   "outputs": [],
   "source": [
    "predictedClass_nn_train = classifier_nn.predict( features_train )\n",
    "predictedClass_nn_val = classifier_nn.predict( features_val )"
   ]
  },
  {
   "cell_type": "code",
   "execution_count": null,
   "metadata": {},
   "outputs": [],
   "source": [
    "print( 'Confusion Matrix - Training' )\n",
    "print( confusion_matrix( labels_train, predictedClass_nn_train ) )\n",
    "print( 'Confusion Matrix - Validation' )\n",
    "print( confusion_matrix( labels_val, predictedClass_nn_val ) )"
   ]
  },
  {
   "cell_type": "markdown",
   "metadata": {},
   "source": [
    "## Support Vector Machine"
   ]
  },
  {
   "cell_type": "code",
   "execution_count": null,
   "metadata": {},
   "outputs": [],
   "source": [
    "classifier_svm = svm.SVC( kernel='rbf').fit( features_train, labels_train )"
   ]
  },
  {
   "cell_type": "code",
   "execution_count": null,
   "metadata": {},
   "outputs": [],
   "source": [
    "predictedClass_svm_train = classifier_svm.predict( features_train )\n",
    "predictedClass_svm_val = classifier_svm.predict( features_val )"
   ]
  },
  {
   "cell_type": "code",
   "execution_count": null,
   "metadata": {},
   "outputs": [],
   "source": [
    "print( 'Confusion Matrix - Training' )\n",
    "print( confusion_matrix( labels_train, predictedClass_svm_train ) )\n",
    "print( 'Confusion Matrix - Validation' )\n",
    "print( confusion_matrix( labels_val, predictedClass_svm_val ) )"
   ]
  }
 ],
 "metadata": {
  "language_info": {
   "name": "python",
   "pygments_lexer": "ipython3"
  }
 },
 "nbformat": 4,
 "nbformat_minor": 2
}
