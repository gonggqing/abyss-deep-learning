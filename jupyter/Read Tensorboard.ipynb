{
 "cells": [
  {
   "cell_type": "code",
   "execution_count": null,
   "metadata": {},
   "outputs": [],
   "source": [
    "%matplotlib notebook\n",
    "\n",
    "import os\n",
    "import glob\n",
    "\n",
    "import matplotlib.pyplot as plt\n",
    "import pandas as pd\n",
    "import numpy as np\n",
    "import tensorflow as tf"
   ]
  },
  {
   "cell_type": "code",
   "execution_count": null,
   "metadata": {},
   "outputs": [],
   "source": [
    "def extract_tensorboard_data(eventfile_path, keys):\n",
    "    data = {}\n",
    "    for event in tf.train.summary_iterator(eventfile_path):\n",
    "        if not event.HasField(\"summary\"):\n",
    "            continue\n",
    "        if event.step not in data:\n",
    "            data[event.step] = {}\n",
    "        for v in event.summary.value:\n",
    "            if v.tag in keys:\n",
    "                data[event.step][v.tag] = v.simple_value\n",
    "    df = pd.DataFrame(data, ).T\n",
    "    df.index.name = \"epoch\"\n",
    "    return df"
   ]
  },
  {
   "cell_type": "code",
   "execution_count": null,
   "metadata": {},
   "outputs": [],
   "source": [
    "keys = ['loss', 'binary_accuracy']\n",
    "keys += ['val_' + i for i in tuple(keys)]\n",
    "\n",
    "experiment_dirs = glob.glob(\"/data/log/cnn/fd/large-fromCF/tuesday1/*\")\n",
    "\n",
    "data = {}\n",
    "for experiment_dir in experiment_dirs:\n",
    "    event_files = []\n",
    "    for experiment_path in glob.glob(os.path.join(experiment_dir, \"*.tfevents.*\")):\n",
    "        event_files.append(extract_tensorboard_data(experiment_path, keys))\n",
    "    if event_files:\n",
    "        data[experiment_dir] = pd.concat(event_files).sort_index()\n",
    "        index = data[experiment_dir].index\n",
    "        data[experiment_dir]['experiment_dir'] = pd.Series(experiment_dir, index=index)"
   ]
  },
  {
   "cell_type": "code",
   "execution_count": null,
   "metadata": {},
   "outputs": [],
   "source": [
    "df = pd.concat(list(data.values()))\n",
    "df = df.reset_index(level=0, inplace=False)\n",
    "df#"
   ]
  },
  {
   "cell_type": "code",
   "execution_count": null,
   "metadata": {},
   "outputs": [],
   "source": [
    "# for experiment_dir, data in df.groupby('experiment_dir'):\n",
    "#     print(data['val_loss'].min())\n",
    "g = df.groupby('experiment_dir', as_index=False)\n",
    "a = g.agg('last').sort_values(by='val_loss')\n",
    "# a['overfit'] = a['val_loss'] / a['loss']\n",
    "# a.sort_values(by='overfit')\n",
    "\n",
    "\n",
    "def extract_experiment_params(experiment_path):\n",
    "    experiment_name = experiment_path.split(\"/\")[-1]\n",
    "    fields = {}\n",
    "    for field in experiment_name.split(\" \"):\n",
    "        key, value_str = field.split(\":\")\n",
    "        try:\n",
    "            fields[key] = float(value_str)\n",
    "        except ValueError:\n",
    "            fields[key] = value_str\n",
    "    return fields\n",
    "a = pd.concat([a, pd.DataFrame(a['experiment_dir'].apply(extract_experiment_params).as_matrix().tolist(), index=a.index)], axis=1)\n",
    "a[list(set(a.columns.tolist()) - {'experiment_dir', 'DS', 'AC', 'LF', 'CW'})]"
   ]
  },
  {
   "cell_type": "code",
   "execution_count": null,
   "metadata": {},
   "outputs": [],
   "source": [
    "# a = df[df['experiment_dir'].apply(lambda x: x[-3:]) == '432']\n",
    "# # a['val_loss'].diff()\n",
    "# a.index"
   ]
  },
  {
   "cell_type": "code",
   "execution_count": null,
   "metadata": {},
   "outputs": [],
   "source": [
    "for metric in ['val_loss', 'val_binary_accuracy']:\n",
    "    scale = None\n",
    "    if metric == 'val_loss':\n",
    "        scale = {'loglog': True}\n",
    "    else:\n",
    "        scale = {'logx': True}\n",
    "    plt.figure()\n",
    "    ax = plt.subplot(1,2,1)\n",
    "    a[a['KR'] == 0][['AR'] + [metric]].set_index('AR').apply(np.log).plot(style='.', ax=ax, **scale)\n",
    "    ax=plt.subplot(1,2,2)\n",
    "    a[a['AR'] == 0][['KR'] + [metric]].set_index('KR').apply(np.log).plot(style='.', ax=ax, **scale)\n"
   ]
  },
  {
   "cell_type": "code",
   "execution_count": null,
   "metadata": {},
   "outputs": [],
   "source": []
  },
  {
   "cell_type": "code",
   "execution_count": null,
   "metadata": {},
   "outputs": [],
   "source": []
  },
  {
   "cell_type": "code",
   "execution_count": null,
   "metadata": {},
   "outputs": [],
   "source": []
  }
 ],
 "metadata": {
  "language_info": {
   "name": "python",
   "pygments_lexer": "ipython3"
  }
 },
 "nbformat": 4,
 "nbformat_minor": 2
}
