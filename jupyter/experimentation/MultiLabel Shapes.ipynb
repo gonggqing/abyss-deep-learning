{
 "cells": [
  {
   "cell_type": "code",
   "execution_count": 1,
   "metadata": {},
   "outputs": [
    {
     "name": "stderr",
     "output_type": "stream",
     "text": [
      "Using TensorFlow backend.\n"
     ]
    }
   ],
   "source": [
    "import matplotlib.pyplot as plt\n",
    "import numpy as np\n",
    "from abyss_deep_learning.datasets.simulated import alphanum_gen\n",
    "from abyss_deep_learning.keras.classification import batching_gen, onehot_gen\n",
    "from abyss_deep_learning.keras.utils import gen_dump_data, lambda_gen\n",
    "from keras.backend import clear_session"
   ]
  },
  {
   "cell_type": "code",
   "execution_count": 2,
   "metadata": {},
   "outputs": [
    {
     "data": {
      "text/plain": [
       "[('square', (8, 252, 164), (63, 347, 79)),\n",
       " ('triangle', (128, 244, 88), (267, 377, 36)),\n",
       " ('circle', (60, 10, 179), (392, 78, 66)),\n",
       " ('triangle', (112, 108, 38), (130, 384, 28))]"
      ]
     },
     "execution_count": 2,
     "metadata": {},
     "output_type": "execute_result"
    }
   ],
   "source": [
    "from abyss_deep_learning.datasets.simulated import shapes_gen\n",
    "next(shapes_gen(scale=10, max_shapes=5, nms=0.5, noise=10))[1]"
   ]
  },
  {
   "cell_type": "code",
   "execution_count": null,
   "metadata": {},
   "outputs": [],
   "source": []
  },
  {
   "cell_type": "code",
   "execution_count": null,
   "metadata": {},
   "outputs": [],
   "source": []
  },
  {
   "cell_type": "code",
   "execution_count": null,
   "metadata": {},
   "outputs": [],
   "source": []
  }
 ],
 "metadata": {
  "kernelspec": {
   "display_name": "Python 3",
   "language": "python",
   "name": "python3"
  },
  "language_info": {
   "codemirror_mode": {
    "name": "ipython",
    "version": 3
   },
   "file_extension": ".py",
   "mimetype": "text/x-python",
   "name": "python",
   "nbconvert_exporter": "python",
   "pygments_lexer": "ipython3",
   "version": "3.5.2"
  }
 },
 "nbformat": 4,
 "nbformat_minor": 2
}
